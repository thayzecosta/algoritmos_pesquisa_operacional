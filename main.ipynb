{
 "cells": [
  {
   "cell_type": "markdown",
   "metadata": {
    "id": "QnWzjmM-a6Mw"
   },
   "source": [
    "# 1 - Introdução ao problema e força bruta"
   ]
  },
  {
   "cell_type": "markdown",
   "metadata": {
    "id": "SasYByWNbCYx"
   },
   "source": [
    "## 1.2 - O Problema das Entregas: Origem, Endereços e Destino"
   ]
  },
  {
   "cell_type": "markdown",
   "metadata": {
    "id": "ylPCBlswiQN7"
   },
   "source": [
    "Imagine uma empresa inovadora, enfrentando o desafio cotidiano de realizar entregas eficientes em uma cidade cheia de dinamismo. A companhia busca incessantemente formas de otimizar suas rotas de entrega para oferecer um serviço rápido e de qualidade, enquanto mantém os custos operacionais sob controle.\n",
    "\n",
    "**Definindo a Origem: O Ponto de Partida**\n",
    "\n",
    "Tudo começa na **origem**, o centro de distribuição. É deste ponto que os veículos de entrega saem carregados, prontos para distribuir os produtos aos clientes. A origem é representada de maneira simples e objetiva: uma tupla contendo dois elementos, a latitude e a longitude:\n",
    "\n",
    "```python\n",
    "origem = (x_origem, y_origem)\n",
    "```\n",
    "\n",
    "Esta coordenada geográfica funciona como o ponto inicial de todas as rotas de entrega planejadas para o dia.\n",
    "\n",
    "**Estabelecendo o Destino: O Ponto de Chegada**\n",
    "\n",
    "Cada rota precisa ter um ponto final, o **destino**. Este pode ser o próprio centro de distribuição, marcando o retorno dos veículos, ou pode ser um outro local estratégico, como um segundo centro de distribuição ou uma oficina para manutenção dos veículos. Da mesma forma que a origem, o destino é definido por uma tupla de latitude e longitude:\n",
    "\n",
    "```python\n",
    "destino = (x_destino, y_destino)\n",
    "```\n",
    "\n",
    "**Listando os Endereços: Os Pontos Intermediários**\n",
    "\n",
    "Entre a origem e o destino, temos os **endereços de entrega**, os pontos que os veículos devem visitar para realizar as entregas. Cada endereço é um ponto no espaço, representado igualmente por uma tupla de coordenadas geográficas, formando uma lista:\n",
    "\n",
    "```python\n",
    "enderecos = [(x1, y1), (x2, y2), ..., (xn, yn)]\n",
    "```\n",
    "\n",
    "Estes são os pontos de parada obrigatória na rota, e o desafio é conectá-los da maneira mais eficiente possível."
   ]
  },
  {
   "cell_type": "code",
   "execution_count": 1,
   "metadata": {
    "executionInfo": {
     "elapsed": 16,
     "status": "ok",
     "timestamp": 1698161885327,
     "user": {
      "displayName": "Judecir Júnior",
      "userId": "05429191402490882278"
     },
     "user_tz": -60
    },
    "id": "VdT-b9N63ew6"
   },
   "outputs": [],
   "source": [
    "origem = (0,0)\n",
    "destino = (4,4)\n",
    "\n",
    "enderecos = [(2, 1), (2,2), (8, 3), (5, 3)]"
   ]
  },
  {
   "cell_type": "markdown",
   "metadata": {
    "id": "JsRJok4fj92l"
   },
   "source": [
    "**Definindo uma Rota Básica: Conexão Direta entre Pontos**\n",
    "\n",
    "Antes de embarcarmos na otimização das rotas, é essencial entender como uma rota básica pode ser representada e estruturada. Uma maneira simples e intuitiva de iniciar é conectando diretamente a **origem** aos **endereços de entrega** e, finalmente, ao **destino**. Este processo gerará uma lista ordenada de pontos que delineiam um caminho a ser seguido.\n",
    "\n",
    "**Estrutura de uma Rota**\n",
    "\n",
    "Uma rota, neste contexto, é uma lista de tuplas, onde cada tupla representa as coordenadas cartesianas \\( (x, y) \\) de um ponto específico na rota. Esta lista é ordenada: começa com a origem, passa por todos os endereços de entrega, e culmina no destino. Uma representação simplificada da rota seria:\n",
    "\n",
    "```python\n",
    "rota = [origem, (x1, y1), (x2, y2), ..., (xn, yn), destino]\n",
    "```\n",
    "\n",
    "**Construindo Uma Rota Inicial**\n",
    "\n",
    "Agora que compreendemos a estrutura básica de uma rota, podemos começar a construir a nossa rota inicial. Este processo é bastante direto, principalmente porque Python facilita a concatenação de listas.\n",
    "\n",
    "**Criação Simplificada de uma Rota**\n",
    "\n",
    "A rota inicial pode ser criada através da concatenação de três listas:\n",
    "\n",
    "1. Uma lista contendo apenas a origem.\n",
    "2. A lista de endereços de entrega.\n",
    "3. Uma lista contendo apenas o destino.\n",
    "\n",
    "Com este método, podemos facilmente construir a rota completa, do ponto de origem até o ponto de destino, passando por todos os endereços onde as entregas devem ser realizadas.\n",
    "\n",
    "O código abaixo ilustra este processo de forma simplificada:\n",
    "\n",
    "```python\n",
    "rota = [origem] + enderecos + [destino]\n",
    "```"
   ]
  },
  {
   "cell_type": "code",
   "execution_count": 2,
   "metadata": {
    "executionInfo": {
     "elapsed": 14,
     "status": "ok",
     "timestamp": 1698161885327,
     "user": {
      "displayName": "Judecir Júnior",
      "userId": "05429191402490882278"
     },
     "user_tz": -60
    },
    "id": "IGyrONwJ9lrN"
   },
   "outputs": [],
   "source": [
    "rota = [origem] + enderecos + [destino]"
   ]
  },
  {
   "cell_type": "code",
   "execution_count": 3,
   "metadata": {
    "colab": {
     "base_uri": "https://localhost:8080/"
    },
    "executionInfo": {
     "elapsed": 14,
     "status": "ok",
     "timestamp": 1698161885328,
     "user": {
      "displayName": "Judecir Júnior",
      "userId": "05429191402490882278"
     },
     "user_tz": -60
    },
    "id": "agMVZkwf9x0R",
    "outputId": "6630aef1-9841-4bd1-f71c-e72622d8e2dd"
   },
   "outputs": [
    {
     "data": {
      "text/plain": [
       "[(0, 0), (2, 1), (2, 2), (8, 3), (5, 3), (4, 4)]"
      ]
     },
     "execution_count": 3,
     "metadata": {},
     "output_type": "execute_result"
    }
   ],
   "source": [
    "rota"
   ]
  },
  {
   "cell_type": "markdown",
   "metadata": {
    "id": "mIfp5sOaj-YM"
   },
   "source": [
    "Para visualizar efetivamente as rotas geradas e facilitar o processo de análise e otimização, utilizaremos a biblioteca `matplotlib.pyplot`. Este pacote gráfico em Python é extremamente eficaz para produzir gráficos estáticos, interativos e animados de alta qualidade em uma sintaxe simples e fácil de entender.\n",
    "\n",
    "No Google Colab, a biblioteca `matplotlib` já vem pré-instalada, então você pode pular o passo de instalação e ir diretamente para a importação da biblioteca.\n",
    "\n",
    "```python\n",
    "import matplotlib.pyplot as plt\n",
    "```\n",
    "\n",
    "Agora, considerando que você já temos uma `rota` definida (uma lista de tuplas, onde cada tupla representa as coordenadas cartesianas de um ponto na rota), o plot da rota pode ser feito da seguinte forma:"
   ]
  },
  {
   "cell_type": "code",
   "execution_count": 4,
   "metadata": {
    "executionInfo": {
     "elapsed": 8,
     "status": "ok",
     "timestamp": 1698161885328,
     "user": {
      "displayName": "Judecir Júnior",
      "userId": "05429191402490882278"
     },
     "user_tz": -60
    },
    "id": "V38Z0eBQ91Jz"
   },
   "outputs": [],
   "source": [
    "import matplotlib.pyplot as plt"
   ]
  },
  {
   "cell_type": "code",
   "execution_count": 5,
   "metadata": {
    "executionInfo": {
     "elapsed": 8,
     "status": "ok",
     "timestamp": 1698161885328,
     "user": {
      "displayName": "Judecir Júnior",
      "userId": "05429191402490882278"
     },
     "user_tz": -60
    },
    "id": "LnmkH5tL9-8v"
   },
   "outputs": [],
   "source": [
    "from scipy.spatial.distance import euclidean as distancia_euclidiana"
   ]
  },
  {
   "cell_type": "code",
   "execution_count": 6,
   "metadata": {
    "colab": {
     "base_uri": "https://localhost:8080/",
     "height": 0
    },
    "executionInfo": {
     "elapsed": 664,
     "status": "ok",
     "timestamp": 1698161885985,
     "user": {
      "displayName": "Judecir Júnior",
      "userId": "05429191402490882278"
     },
     "user_tz": -60
    },
    "id": "U4s9qnNE-MlB",
    "outputId": "0807b149-f2b9-4165-91e5-2bbcaa1d6581"
   },
   "outputs": [
    {
     "data": {
      "image/png": "[encoded data removed]",
      "text/plain": [
       "<Figure size 640x480 with 1 Axes>"
      ]
     },
     "metadata": {},
     "output_type": "display_data"
    }
   ],
   "source": [
    "# Definindo o tamanho da rota para facilitar a iteração posterior\n",
    "tamanho_rota = len(rota)\n",
    "# Inicializando a variável que armazenará a distância total percorrida na rota\n",
    "distancia_percorrida = 0\n",
    "\n",
    "# Iterando sobre cada ponto na rota\n",
    "for i in range(tamanho_rota):\n",
    "  # Coordenadas do ponto atual na iteração\n",
    "  x, y = rota[i]\n",
    "  # Definindo a cor padrão dos pontos como preta\n",
    "  cor = \"black\"\n",
    "  # Se o ponto atual é o ponto de origem, sua cor será azul\n",
    "  if i == 0:\n",
    "    cor = \"blue\"\n",
    "  # Se o ponto atual é o ponto de destino, sua cor será vermelha\n",
    "  elif i == tamanho_rota - 1:\n",
    "    cor = \"red\"\n",
    "\n",
    "  # Plotando o ponto atual com a cor definida\n",
    "  plt.scatter(x, y, color=cor)\n",
    "\n",
    "  # Se o ponto atual não é o último, desenhamos uma seta até o próximo ponto\n",
    "  if i < tamanho_rota - 1:\n",
    "    # Coordenadas do próximo ponto na rota\n",
    "    x1, y1 = rota[i+1]\n",
    "    # Calculando a diferença nas coordenadas para determinar o tamanho e direção da seta\n",
    "    dx = x1 - x\n",
    "    dy = y1 - y\n",
    "    # Desenhando uma seta do ponto atual para o próximo ponto\n",
    "    plt.arrow(x, y, dx, dy, color=\"black\", head_width=0.1)\n",
    "    # Atualizando a distância total percorrida com a distância até o próximo ponto\n",
    "    distancia_percorrida = distancia_percorrida + distancia_euclidiana(rota[i], rota[i+1])\n",
    "\n",
    "# Adicionando um título ao gráfico, incluindo a distância total percorrida na rota\n",
    "plt.title(f\"Rota com distancia de {round(distancia_percorrida, 2)}\")\n",
    "# Mostrando o gráfico\n",
    "plt.show()\n"
   ]
  },
  {
   "cell_type": "markdown",
   "metadata": {
    "id": "1mR2DfRvmIR3"
   },
   "source": [
    "**Interpretação do Gráfico:**\n",
    "\n",
    "1. **Pontos no Gráfico:**\n",
    "   - Cada ponto (ou nó) no gráfico representa uma localização no espaço 2D, que pode ser um endereço de entrega, a origem (depósito inicial), ou o destino final (outro centro de distribuição ou oficina, por exemplo).\n",
    "   - A origem é representada pelo ponto azul, e o destino pelo ponto vermelho. Os endereços de entrega intermediários são representados por pontos pretos.\n",
    "\n",
    "2. **Setas Entre os Pontos:**\n",
    "   - As setas conectam os pontos consecutivamente, indicando a sequência de entregas.\n",
    "   - A direção das setas mostra o caminho que o veículo de entrega deve seguir, partindo da origem, passando pelos pontos de entrega, e finalmente chegando ao destino.\n",
    "\n",
    "3. **Distância Percorrida:**\n",
    "   - O título do gráfico apresenta a distância total percorrida nesta rota específica.\n",
    "   - A distância entre cada par de pontos consecutivos é calculada usando a função `distancia_euclidiana`. Essa função calcula a distância euclidiana padrão entre dois pontos no plano cartesiano.\n",
    "   - A `distancia_percorrida` é acumulada durante o loop, somando a distância entre cada par de pontos consecutivos na rota.\n",
    "\n",
    "**Como Ler o Gráfico:**\n",
    "\n",
    "- **Início e Fim da Rota:**\n",
    "  - Olhe para os pontos azul e vermelho para identificar onde a rota começa e termina, respectivamente.\n",
    "\n",
    "- **Sequência de Entregas:**\n",
    "  - Siga as setas a partir do ponto azul para visualizar a ordem e o caminho das entregas até chegar ao ponto vermelho.\n",
    "\n",
    "- **Distância Total:**\n",
    "  - Verifique o título do gráfico para saber a distância total percorrida nessa rota.\n",
    "\n",
    " **Análise Adicional:**\n",
    "- Este gráfico é especialmente útil para visualizar e comparar diferentes rotas propostas pelo seu algoritmo de otimização.\n",
    "- A análise visual pode nos ajudar a identificar rapidamente rotas ineficientes ou pontos de entrega que estão significativamente fora do caminho ideal.\n",
    "\n",
    "Por fim, podemos transformar esse código em uma função para reutilizarmos posteriormente."
   ]
  },
  {
   "cell_type": "code",
   "execution_count": 7,
   "metadata": {
    "executionInfo": {
     "elapsed": 7,
     "status": "ok",
     "timestamp": 1698161885985,
     "user": {
      "displayName": "Judecir Júnior",
      "userId": "05429191402490882278"
     },
     "user_tz": -60
    },
    "id": "Lvm2vtEU-cwC"
   },
   "outputs": [],
   "source": [
    "def desenhar_rota(rota):\n",
    "  tamanho_rota = len(rota)\n",
    "  distancia_percorrida = 0\n",
    "\n",
    "  for i in range(tamanho_rota):\n",
    "    x,y = rota[i]\n",
    "\n",
    "    cor = \"black\"\n",
    "    if i == 0:\n",
    "      cor = \"blue\"\n",
    "    elif i == tamanho_rota - 1:\n",
    "      cor = \"red\"\n",
    "\n",
    "    plt.scatter(x, y, color=cor)\n",
    "\n",
    "    if i < tamanho_rota - 1:\n",
    "      x1, y1 = rota[i+1]\n",
    "      dx = x1 - x\n",
    "      dy = y1 - y\n",
    "      plt.arrow(x, y, dx, dy, color=\"black\", head_width = 0.1)\n",
    "      distancia_percorrida = distancia_percorrida + distancia_euclidiana(rota[i], rota[i+1])\n",
    "\n",
    "  plt.title(f'Rota com distancia de {round(distancia_percorrida, 2)}')\n",
    "  plt.show()"
   ]
  },
  {
   "cell_type": "code",
   "execution_count": 8,
   "metadata": {
    "colab": {
     "base_uri": "https://localhost:8080/",
     "height": 0
    },
    "executionInfo": {
     "elapsed": 667,
     "status": "ok",
     "timestamp": 1698161886645,
     "user": {
      "displayName": "Judecir Júnior",
      "userId": "05429191402490882278"
     },
     "user_tz": -60
    },
    "id": "GEsDqOXt5V8L",
    "outputId": "b9e38eb3-c5b5-49b7-b37b-1494d1b4bae9"
   },
   "outputs": [
    {
     "data": {
      "image/png": "[encoded data removed]",
      "text/plain": [
       "<Figure size 640x480 with 1 Axes>"
      ]
     },
     "metadata": {},
     "output_type": "display_data"
    }
   ],
   "source": [
    "origem = (0,0)\n",
    "destino = (4,4)\n",
    "\n",
    "enderecos = [(2,2), (2, 1), (5, 3), (8, 3)]\n",
    "\n",
    "rota = [origem] + enderecos + [destino]\n",
    "desenhar_rota(rota)"
   ]
  },
  {
   "cell_type": "markdown",
   "metadata": {
    "id": "Rp-ObHHEbHSQ"
   },
   "source": [
    "## 1.3 - Resolução via Força Bruta\n"
   ]
  },
  {
   "cell_type": "markdown",
   "metadata": {
    "id": "PIKQxWM2nifD"
   },
   "source": [
    "O método de **Força Bruta** é uma abordagem direta e exaustiva para resolver o problema de otimização da rota de entrega. Este método não faz suposições, não elimina alternativas e, de fato, examina todas as possíveis combinações de rotas para encontrar a mais eficiente.\n"
   ]
  },
  {
   "cell_type": "code",
   "execution_count": 9,
   "metadata": {
    "executionInfo": {
     "elapsed": 32,
     "status": "ok",
     "timestamp": 1698161886646,
     "user": {
      "displayName": "Judecir Júnior",
      "userId": "05429191402490882278"
     },
     "user_tz": -60
    },
    "id": "97EimWc55W0O"
   },
   "outputs": [],
   "source": [
    "from itertools import permutations"
   ]
  },
  {
   "cell_type": "code",
   "execution_count": 10,
   "metadata": {
    "executionInfo": {
     "elapsed": 32,
     "status": "ok",
     "timestamp": 1698161886647,
     "user": {
      "displayName": "Judecir Júnior",
      "userId": "05429191402490882278"
     },
     "user_tz": -60
    },
    "id": "Tl1a4rTh5Xax"
   },
   "outputs": [],
   "source": [
    "def calcular_distancia_rota(rota):\n",
    "    \"\"\"\n",
    "    Esta função calcula a distância total de uma rota, somando as distâncias\n",
    "    euclidianas entre pontos consecutivos da rota fornecida.\n",
    "\n",
    "    Parameters:\n",
    "    rota (list): Uma lista de pontos (tuplas) onde cada ponto representa uma posição no espaço.\n",
    "\n",
    "    Returns:\n",
    "    float: A distância total percorrida na rota.\n",
    "    \"\"\"\n",
    "\n",
    "    distancia = 0  # Inicializa a variável que armazenará a distância total.\n",
    "    tamanho_rota = len(rota)  # Armazena o número total de pontos na rota.\n",
    "\n",
    "    # Itera sobre cada ponto na rota.\n",
    "    for i in range(tamanho_rota):\n",
    "        # Verifica se o ponto atual não é o último na rota.\n",
    "        if i < tamanho_rota - 1:\n",
    "            # Calcula e acumula a distância euclidiana entre o ponto atual e o próximo.\n",
    "            distancia = distancia + distancia_euclidiana(rota[i], rota[i+1])\n",
    "\n",
    "    return distancia  # Retorna a distância total calculada.\n"
   ]
  },
  {
   "cell_type": "markdown",
   "metadata": {
    "id": "I0T8NJCSn1Av"
   },
   "source": [
    "\n",
    "**Funcionamento do Método:**\n",
    "O método de Força Bruta cria todas as permutações possíveis dos endereços de entrega (excluindo origem e destino), criando assim todas as rotas possíveis. Para cada rota gerada, podemos calcular a distância total usando uma função `calcular_distancia_rota` e mantém um registro da rota que tem a menor distância total. A função `calcular_distancia_rota` é uma função que retorna a soma das distâncias entre todos os pontos consecutivos na rota.\n",
    "\n",
    "**Implementação com Permutations:**\n",
    "Na implementação usando o `permutations` do módulo `itertools`, cada permutação dos endereços é considerada uma rota possível. Para cada permutação, a origem é adicionada no início, e o destino é adicionado no final da lista de endereços permutados. Então, a distância total da rota é calculada, e a rota é comparada com a rota conhecida de menor distância. Se a rota recém-calculada tem uma distância menor, ela se torna a nova rota de menor distância."
   ]
  },
  {
   "cell_type": "code",
   "execution_count": 11,
   "metadata": {
    "colab": {
     "base_uri": "https://localhost:8080/",
     "height": 0
    },
    "executionInfo": {
     "elapsed": 31,
     "status": "ok",
     "timestamp": 1698161886647,
     "user": {
      "displayName": "Judecir Júnior",
      "userId": "05429191402490882278"
     },
     "user_tz": -60
    },
    "id": "XH4fRDZO5YIu",
    "outputId": "9243aef3-b502-4947-f20d-0f24c297fda4"
   },
   "outputs": [
    {
     "name": "stdout",
     "output_type": "stream",
     "text": [
      "[(0, 0), (2, 1), (2, 2), (5, 3), (8, 3), (4, 4)] 13.52145126328583\n"
     ]
    },
    {
     "data": {
      "image/png": "[encoded data removed]",
      "text/plain": [
       "<Figure size 640x480 with 1 Axes>"
      ]
     },
     "metadata": {},
     "output_type": "display_data"
    }
   ],
   "source": [
    "# Definindo as variáveis para armazenar a menor distância e a rota correspondente\n",
    "menor_distancia = float('inf')  # Inicializando a menor distância com infinito\n",
    "menor_rota = None  # Inicializando a variável que armazenará a rota correspondente à menor distância\n",
    "\n",
    "# Iterando sobre todas as permutações possíveis dos endereços\n",
    "for permutacao in permutations(enderecos):\n",
    "    # Construindo a rota atual adicionando o ponto de origem no início,\n",
    "    # o ponto de destino no final, e a permutação atual dos endereços no meio\n",
    "    rota = [origem] + list(permutacao) + [destino]\n",
    "\n",
    "    # Calculando a distância total da rota atual usando a função definida anteriormente\n",
    "    distancia_rota = calcular_distancia_rota(rota)\n",
    "\n",
    "    # Verificando se a distância total da rota atual é menor que a menor distância registrada até agora\n",
    "    if distancia_rota < menor_distancia:\n",
    "        # Atualizando a menor distância e a rota correspondente\n",
    "        menor_distancia = distancia_rota\n",
    "        menor_rota = rota\n",
    "\n",
    "# Imprimindo a menor rota e sua distância correspondente\n",
    "print(menor_rota, menor_distancia)\n",
    "\n",
    "# Desenhando a rota no espaço, usando uma função 'desenhar_rota()' que deve estar definida em algum lugar no seu código\n",
    "desenhar_rota(menor_rota)\n"
   ]
  },
  {
   "cell_type": "markdown",
   "metadata": {
    "id": "4gAjCm0gbr0Y"
   },
   "source": [
    "##  1.4 - Análise de Eficiência da Força Bruta\n"
   ]
  },
  {
   "cell_type": "markdown",
   "metadata": {
    "id": "-db_9r6Zn9Rk"
   },
   "source": [
    "Podemos definir uma função para reutilizar posteriormente caso necessário."
   ]
  },
  {
   "cell_type": "code",
   "execution_count": 12,
   "metadata": {
    "executionInfo": {
     "elapsed": 27,
     "status": "ok",
     "timestamp": 1698161886648,
     "user": {
      "displayName": "Judecir Júnior",
      "userId": "05429191402490882278"
     },
     "user_tz": -60
    },
    "id": "idxaPkqs5ZBo"
   },
   "outputs": [],
   "source": [
    "def forca_bruta(origem, destino, enderecos):\n",
    "    # Inicializa a variável que vai armazenar a menor distância encontrada\n",
    "    # com infinito, pois qualquer distância calculada será menor que infinito.\n",
    "    menor_distancia = float('inf')\n",
    "\n",
    "    # Inicializa a variável que vai armazenar a rota correspondente à menor distância\n",
    "    # com None, pois ainda não encontramos nenhuma rota.\n",
    "    menor_rota = None\n",
    "\n",
    "    # Itera sobre todas as permutações possíveis dos endereços.\n",
    "    # permutations(enderecos) retorna todas as possíveis ordenações dos endereços,\n",
    "    # ou seja, todas as rotas possíveis (sem considerar origem e destino).\n",
    "    for permutacao in permutations(enderecos):\n",
    "        # Cria uma rota completa adicionando a origem no início da permutação\n",
    "        # dos endereços e o destino no final.\n",
    "        rota = [origem] + list(permutacao) + [destino]\n",
    "\n",
    "        # Calcula a distância total da rota usando a função calcular_distancia_rota\n",
    "        distancia_rota = calcular_distancia_rota(rota)\n",
    "\n",
    "        # Verifica se a distância da rota calculada é menor que a menor distância encontrada até agora.\n",
    "        # Se for, atualiza as variáveis menor_distancia e menor_rota.\n",
    "        if distancia_rota < menor_distancia:\n",
    "            menor_distancia = distancia_rota\n",
    "            menor_rota = rota\n",
    "\n",
    "    # Retorna a menor rota encontrada e sua respectiva distância.\n",
    "    return menor_rota, menor_distancia\n"
   ]
  },
  {
   "cell_type": "code",
   "execution_count": 13,
   "metadata": {
    "colab": {
     "base_uri": "https://localhost:8080/",
     "height": 0
    },
    "executionInfo": {
     "elapsed": 408040,
     "status": "ok",
     "timestamp": 1698162294662,
     "user": {
      "displayName": "Judecir Júnior",
      "userId": "05429191402490882278"
     },
     "user_tz": -60
    },
    "id": "Mx5eXWRp5Zwy",
    "outputId": "4d8d1ef9-3c9d-47b6-86f5-5557c75377d5"
   },
   "outputs": [
    {
     "data": {
      "image/png": "[encoded data removed]",
      "text/plain": [
       "<Figure size 640x480 with 1 Axes>"
      ]
     },
     "metadata": {},
     "output_type": "display_data"
    }
   ],
   "source": [
    "origem = (0,0)\n",
    "destino = (4,4)\n",
    "\n",
    "enderecos = [(2,2), (2, 1), (5, 3), (8, 3), (10, 5), (9, 4), (8, 7), (6, 3), (9, 6), (7, 5)]\n",
    "\n",
    "menor_rota, menor_distancia = forca_bruta(origem, destino, enderecos)\n",
    "desenhar_rota(menor_rota)"
   ]
  },
  {
   "cell_type": "markdown",
   "metadata": {
    "id": "W6Me8regbaz_"
   },
   "source": [
    "# 2 - Métodos heurísticos e meta-heurísticos"
   ]
  },
  {
   "cell_type": "markdown",
   "metadata": {
    "id": "g7SiUl_490f_"
   },
   "source": [
    "## 2.1 - Implementação da heurística do vizinho mais próximo\n"
   ]
  },
  {
   "cell_type": "code",
   "execution_count": 14,
   "metadata": {
    "executionInfo": {
     "elapsed": 41,
     "status": "ok",
     "timestamp": 1698162294664,
     "user": {
      "displayName": "Judecir Júnior",
      "userId": "05429191402490882278"
     },
     "user_tz": -60
    },
    "id": "rSZidyg_lo5r"
   },
   "outputs": [],
   "source": [
    "origem = (0,0)\n",
    "destino = (4,4)\n",
    "\n",
    "enderecos = [(2,2), (2, 1), (5, 3), (8, 3)]"
   ]
  },
  {
   "cell_type": "markdown",
   "metadata": {
    "id": "LOk7coCzpFUl"
   },
   "source": [
    "A estratégia de visitar sempre o 'Vizinho Mais Próximo' oferece uma abordagem intuitiva e direta para lidar com desafios de roteirização, como a determinação eficiente de rotas de entrega entre uma origem, vários endereços de entrega e um destino final.\n",
    "\n",
    "**Funcionamento da Heurística do Vizinho Mais Próximo:**\n",
    "\n",
    "1. **Início na Origem:** O algoritmo inicia na origem e considera esse ponto como o ponto atual de referência.\n",
    "\n",
    "2. **Seleção do Próximo Ponto:** De todos os endereços ainda não visitados, o algoritmo seleciona aquele que está mais próximo do ponto atual, usando uma métrica de distância predefinida.\n",
    "\n",
    "3. **Transição:** O endereço selecionado é então considerado o novo ponto atual, e o algoritmo prossegue, repetindo o processo de seleção até que todos os endereços sejam visitados.\n",
    "\n",
    "4. **Conclusão no Destino:** Após a visita a todos os endereços, a rota se encerra no destino final, podendo ser um centro de distribuição, uma oficina ou qualquer outro local predefinido.\n",
    "\n",
    "**Processo em Resumo:**\n",
    "\n",
    "Assim, o algoritmo navega sucessivamente para o endereço mais próximo disponível, criando uma rota que, embora não seja a mais curta possível, é construída de maneira rápida e intuitiva. Este método é útil quando necessitamos de soluções ágeis e eficazes para problemas como o nosso das entregas, proporcionando rotas que podem ser otimizadas posteriormente, se necessário."
   ]
  },
  {
   "cell_type": "code",
   "execution_count": 15,
   "metadata": {
    "executionInfo": {
     "elapsed": 39,
     "status": "ok",
     "timestamp": 1698162294664,
     "user": {
      "displayName": "Judecir Júnior",
      "userId": "05429191402490882278"
     },
     "user_tz": -60
    },
    "id": "cSOeYOGloUXG"
   },
   "outputs": [],
   "source": [
    "# Definindo o ponto de partida como a origem inicialmente\n",
    "ponto_atual = origem\n",
    "# Criando uma cópia dos endereços a serem visitados\n",
    "enderecos_restantes = enderecos.copy()\n",
    "\n",
    "# Inicializando a variável que irá armazenar a distância total percorrida\n",
    "distancia_percorrida = 0\n",
    "# Inicializando a lista da rota com o ponto de origem\n",
    "menor_rota = [ponto_atual]\n",
    "\n",
    "# Loop que continua enquanto houver endereços a serem visitados\n",
    "while enderecos_restantes:\n",
    "  # Inicializando variáveis para encontrar o ponto mais próximo\n",
    "  menor_distancia = float('inf')\n",
    "  ponto_mais_proximo = None\n",
    "\n",
    "  # Iterando sobre os endereços restantes\n",
    "  for endereco in enderecos_restantes:\n",
    "    # Calculando a distância entre o ponto atual e o endereço iterado\n",
    "    distancia = distancia_euclidiana(ponto_atual, endereco)\n",
    "    # Verificando se a distância calculada é menor que a menor distância registrada até então\n",
    "    if distancia < menor_distancia:\n",
    "      # Atualizando a menor distância e o ponto mais próximo\n",
    "      menor_distancia = distancia\n",
    "      ponto_mais_proximo = endereco\n",
    "\n",
    "  # Removendo o ponto mais próximo da lista de endereços restantes, já que ele será visitado\n",
    "  enderecos_restantes.remove(ponto_mais_proximo)\n",
    "  # Adicionando o ponto mais próximo à rota\n",
    "  menor_rota.append(ponto_mais_proximo)\n",
    "  # Atualizando a distância total percorrida com a distância até o ponto mais próximo\n",
    "  distancia_percorrida = distancia_percorrida + menor_distancia\n",
    "  # Atualizando o ponto atual para o ponto mais próximo para a próxima iteração\n",
    "  ponto_atual = ponto_mais_proximo\n",
    "\n",
    "# Ao fim do loop, adicionando o destino final à rota\n",
    "menor_rota.append(destino)\n",
    "# Adicionando a distância do último ponto visitado até o destino final à distância total percorrida\n",
    "distancia_percorrida = distancia_percorrida + distancia_euclidiana(ponto_atual, destino)\n"
   ]
  },
  {
   "cell_type": "code",
   "execution_count": 16,
   "metadata": {
    "colab": {
     "base_uri": "https://localhost:8080/"
    },
    "executionInfo": {
     "elapsed": 39,
     "status": "ok",
     "timestamp": 1698162294665,
     "user": {
      "displayName": "Judecir Júnior",
      "userId": "05429191402490882278"
     },
     "user_tz": -60
    },
    "id": "CFchjXAvofNv",
    "outputId": "d81ec08c-cd5f-485b-d6bf-e5b5d19f11e7"
   },
   "outputs": [
    {
     "data": {
      "text/plain": [
       "([(0, 0), (2, 1), (2, 2), (5, 3), (8, 3), (4, 4)], 13.52145126328583)"
      ]
     },
     "execution_count": 16,
     "metadata": {},
     "output_type": "execute_result"
    }
   ],
   "source": [
    "menor_rota, distancia_percorrida"
   ]
  },
  {
   "cell_type": "markdown",
   "metadata": {
    "id": "3tH44r-XpGec"
   },
   "source": [
    "Assim, podemos definir uma função para aplicar essa estratégia."
   ]
  },
  {
   "cell_type": "code",
   "execution_count": 17,
   "metadata": {
    "executionInfo": {
     "elapsed": 576,
     "status": "ok",
     "timestamp": 1698162295205,
     "user": {
      "displayName": "Judecir Júnior",
      "userId": "05429191402490882278"
     },
     "user_tz": -60
    },
    "id": "6a5laCFgmr3z"
   },
   "outputs": [],
   "source": [
    "def vizinho_mais_proximo(origem, destino, enderecos):\n",
    "  # Definindo o ponto de partida como a origem inicialmente\n",
    "  ponto_atual = origem\n",
    "  # Criando uma cópia dos endereços a serem visitados\n",
    "  enderecos_restantes = enderecos.copy()\n",
    "\n",
    "  # Inicializando a variável que irá armazenar a distância total percorrida\n",
    "  distancia_percorrida = 0\n",
    "  # Inicializando a lista da rota com o ponto de origem\n",
    "  menor_rota = [ponto_atual]\n",
    "\n",
    "  # Loop que continua enquanto houver endereços a serem visitados\n",
    "  while enderecos_restantes:\n",
    "    # Inicializando variáveis para encontrar o ponto mais próximo\n",
    "    menor_distancia = float('inf')\n",
    "    ponto_mais_proximo = None\n",
    "\n",
    "    # Iterando sobre os endereços restantes\n",
    "    for endereco in enderecos_restantes:\n",
    "      # Calculando a distância entre o ponto atual e o endereço iterado\n",
    "      distancia = distancia_euclidiana(ponto_atual, endereco)\n",
    "      # Verificando se a distância calculada é menor que a menor distância registrada até então\n",
    "      if distancia < menor_distancia:\n",
    "        # Atualizando a menor distância e o ponto mais próximo\n",
    "        menor_distancia = distancia\n",
    "        ponto_mais_proximo = endereco\n",
    "\n",
    "    # Removendo o ponto mais próximo da lista de endereços restantes, já que ele será visitado\n",
    "    enderecos_restantes.remove(ponto_mais_proximo)\n",
    "    # Adicionando o ponto mais próximo à rota\n",
    "    menor_rota.append(ponto_mais_proximo)\n",
    "    # Atualizando a distância total percorrida com a distância até o ponto mais próximo\n",
    "    distancia_percorrida = distancia_percorrida + menor_distancia\n",
    "    # Atualizando o ponto atual para o ponto mais próximo para a próxima iteração\n",
    "    ponto_atual = ponto_mais_proximo\n",
    "\n",
    "  # Ao fim do loop, adicionando o destino final à rota\n",
    "  menor_rota.append(destino)\n",
    "  # Adicionando a distância do último ponto visitado até o destino final à distância total percorrida\n",
    "  distancia_percorrida = distancia_percorrida + distancia_euclidiana(ponto_atual, destino)\n",
    "\n",
    "  return menor_rota, distancia_percorrida"
   ]
  },
  {
   "cell_type": "code",
   "execution_count": 18,
   "metadata": {
    "colab": {
     "base_uri": "https://localhost:8080/",
     "height": 0
    },
    "executionInfo": {
     "elapsed": 5431,
     "status": "ok",
     "timestamp": 1698162300060,
     "user": {
      "displayName": "Judecir Júnior",
      "userId": "05429191402490882278"
     },
     "user_tz": -60
    },
    "id": "Dx444bmEn4lu",
    "outputId": "9e8f0d70-d493-45fa-85bd-93fbe9c58600"
   },
   "outputs": [
    {
     "data": {
      "image/png": "[encoded data removed]",
      "text/plain": [
       "<Figure size 640x480 with 1 Axes>"
      ]
     },
     "metadata": {},
     "output_type": "display_data"
    }
   ],
   "source": [
    "origem = (0,0)\n",
    "destino = (4,4)\n",
    "\n",
    "enderecos = [(2,2), (2, 1), (5, 3), (9, 4), (8, 7), (6, 3), (9, 6), (7, 5)]\n",
    "\n",
    "menor_rota, menor_distancia = forca_bruta(origem, destino, enderecos)\n",
    "desenhar_rota(menor_rota)"
   ]
  },
  {
   "cell_type": "code",
   "execution_count": 19,
   "metadata": {
    "colab": {
     "base_uri": "https://localhost:8080/",
     "height": 0
    },
    "executionInfo": {
     "elapsed": 31,
     "status": "ok",
     "timestamp": 1698162300060,
     "user": {
      "displayName": "Judecir Júnior",
      "userId": "05429191402490882278"
     },
     "user_tz": -60
    },
    "id": "J-Dn3yD8o6EP",
    "outputId": "a77349db-40fc-4ea1-eb5d-cec2fd663d45"
   },
   "outputs": [
    {
     "data": {
      "image/png": "[encoded data removed]",
      "text/plain": [
       "<Figure size 640x480 with 1 Axes>"
      ]
     },
     "metadata": {},
     "output_type": "display_data"
    }
   ],
   "source": [
    "menor_rota, menor_distancia = vizinho_mais_proximo(origem, destino, enderecos)\n",
    "desenhar_rota(menor_rota)"
   ]
  },
  {
   "cell_type": "markdown",
   "metadata": {
    "id": "635ETS4Pbx0n"
   },
   "source": [
    "##  2.2 - Implementação de algoritmos genéticos\n"
   ]
  },
  {
   "cell_type": "code",
   "execution_count": 20,
   "metadata": {
    "executionInfo": {
     "elapsed": 505,
     "status": "ok",
     "timestamp": 1698162300539,
     "user": {
      "displayName": "Judecir Júnior",
      "userId": "05429191402490882278"
     },
     "user_tz": -60
    },
    "id": "hsGMI8_YUafa"
   },
   "outputs": [],
   "source": [
    "origem = (0,0)\n",
    "destino = (4,4)\n",
    "\n",
    "enderecos = [(2, 1), (2,2), (8, 3), (5, 3)]"
   ]
  },
  {
   "cell_type": "markdown",
   "metadata": {
    "id": "YiNI4mihq3X_"
   },
   "source": [
    "Os algoritmos genéticos (AGs) são métodos de otimização inspirados nos processos de seleção natural e genética. Eles são frequentemente utilizados para encontrar soluções aproximadas em problemas de otimização e busca complexos e variados, como o desafio de otimizar rotas de entregas que as empresas enfrentam diariamente.\n",
    "\n",
    "No contexto da otimização de rotas de entregas, o AG funciona da seguinte maneira:\n",
    "\n",
    "- **Início**: Uma população inicial de rotas possíveis (ou \"indivíduos\") é gerada aleatoriamente. Cada rota representa uma solução potencial para o problema, indicando a ordem na qual os endereços devem ser visitados partindo de uma origem até um destino.\n",
    "\n",
    "- **Avaliação**: Cada indivíduo na população é avaliado usando uma função de aptidão. No nosso caso, essa função calcula a distância total que seria percorrida ao seguir a rota proposta pelo indivíduo. O objetivo é minimizar essa distância.\n",
    "\n",
    "- **Seleção**: Indivíduos são selecionados para serem pais baseados em sua aptidão. Aqueles que performam melhor têm uma chance maior de serem selecionados.\n",
    "\n",
    "- **Cruzamento (Crossover)**: Os indivíduos pais são combinados entre si de maneira controlada para criar descendentes. O processo de cruzamento gera novos indivíduos que possuem características combinadas dos pais.\n",
    "\n",
    "- **Mutação**: Pequenas alterações aleatórias são aplicadas aos descendentes para introduzir variação na população.\n",
    "\n",
    "- **Nova Geração**: Os indivíduos criados através de cruzamento e mutação formam uma nova população, e o processo é repetido por um número determinado de gerações ou até que uma condição de parada seja atingida.\n",
    "\n",
    "Ao longo das gerações, espera-se que a população evolua em direção a soluções que minimizam a distância total de percurso, ajudando as empresas a realizarem suas entregas de maneira mais eficiente e econômica."
   ]
  },
  {
   "cell_type": "code",
   "execution_count": 21,
   "metadata": {
    "executionInfo": {
     "elapsed": 8,
     "status": "ok",
     "timestamp": 1698162300540,
     "user": {
      "displayName": "Judecir Júnior",
      "userId": "05429191402490882278"
     },
     "user_tz": -60
    },
    "id": "iFID3xpmf2U0"
   },
   "outputs": [],
   "source": [
    "# Definindo a função 'avaliar' que irá avaliar um indivíduo (uma possível rota)\n",
    "def avaliar(individuo, origem, enderecos, destino):\n",
    "  # Inicializando a rota com o ponto de origem\n",
    "  rota = [origem]\n",
    "\n",
    "  # Iterando sobre os índices armazenados no indivíduo\n",
    "  # Os índices representam posições na lista de endereços\n",
    "  for i in individuo:\n",
    "    # Adicionando cada endereço correspondente ao índice na rota\n",
    "    rota.append(enderecos[i])\n",
    "\n",
    "  # Após iterar por todos os endereços, adicionando o destino final à rota\n",
    "  rota.append(destino)\n",
    "\n",
    "  # Calculando a distância total percorrida na rota gerada\n",
    "  distancia_percorrida = calcular_distancia_rota(rota)\n",
    "\n",
    "  # Retornando a distância total percorrida\n",
    "  # Este valor será usado como medida de avaliação do indivíduo\n",
    "  return distancia_percorrida,\n"
   ]
  },
  {
   "cell_type": "markdown",
   "metadata": {
    "id": "2qLC599SrTlS"
   },
   "source": [
    "Antes de mergulharmos no código, é essencial que nós compreendamos a biblioteca DEAP, uma ferramenta poderosa para algoritmos evolutivos.\n",
    "\n",
    "**Instalação da DEAP**  \n",
    "A DEAP não faz parte das bibliotecas padrão do Python, portanto, precisamos instalá-la. No Google Colab, isso é feito facilmente com o comando `!pip install deap`.\n",
    "\n",
    "**Configurações Iniciais**  \n",
    "No início do nosso código, definiremos alguns parâmetros. `tam_populacao_inicial` é o número de rotas aleatórias que serão geradas inicialmente. `prob_cruzamento` e `prob_mutacao` são as probabilidades de cruzamento e mutação, respectivamente. Por fim, `numero_geracoes` é o número total de gerações que o algoritmo percorrerá.\n",
    "\n",
    "**Criação de Tipos**  \n",
    "Com o DEAP, criaremos tipos para fitness e indivíduos. `FitnessMin` é um tipo de fitness que busca minimizar a função objetivo (neste caso, a distância total da rota). `Individuo` é um tipo que representa uma rota, sendo uma lista com um atributo de fitness.\n",
    "\n",
    "**Caixa de Ferramentas (Toolbox)**  \n",
    "A `toolbox` é um local onde registraremos as funções que serão utilizadas pelo algoritmo genético, como os operadores de inicialização de genes, indivíduos e população, assim como os operadores genéticos (cruzamento, mutação, seleção e avaliação).\n",
    "\n",
    "**Execução do Algoritmo**  \n",
    "A função `algorithms.eaSimple` é uma implementação simplificada de um algoritmo evolutivo. Forneceremos a população inicial, a toolbox e os parâmetros necessários para os operadores genéticos, e ela executará o algoritmo para o número especificado de gerações.\n",
    "\n",
    "**Seleção do Melhor Indivíduo**  \n",
    "Após a execução do algoritmo, podemos selecionar o melhor indivíduo (a melhor rota, no nosso caso) da população. Isso é feito com a função `tools.selBest`, que retorna uma lista dos n melhores indivíduos da última população gerada.\n",
    "\n",
    "Agora, com uma compreensão básica da DEAP e de seu funcionamento, estaremos melhor preparados para entender e trabalhar com o código que implementa o algoritmo genético para otimizar as rotas de entrega."
   ]
  },
  {
   "cell_type": "code",
   "execution_count": 22,
   "metadata": {
    "colab": {
     "base_uri": "https://localhost:8080/"
    },
    "executionInfo": {
     "elapsed": 6084,
     "status": "ok",
     "timestamp": 1698162306617,
     "user": {
      "displayName": "Judecir Júnior",
      "userId": "05429191402490882278"
     },
     "user_tz": -60
    },
    "id": "c383bd8Ogf3O",
    "outputId": "c31af7bb-34e7-46a6-cdca-0f9a91d7468c"
   },
   "outputs": [
    {
     "name": "stdout",
     "output_type": "stream",
     "text": [
      "Collecting deap\n",
      "  Downloading deap-1.4.1-cp310-cp310-manylinux_2_5_x86_64.manylinux1_x86_64.manylinux_2_17_x86_64.manylinux2014_x86_64.whl (135 kB)\n",
      "\u001b[?25l     \u001b[90m━━━━━━━━━━━━━━━━━━━━━━━━━━━━━━━━━━━━━━━━\u001b[0m \u001b[32m0.0/135.4 kB\u001b[0m \u001b[31m?\u001b[0m eta \u001b[36m-:--:--\u001b[0m\r",
      "\u001b[2K     \u001b[91m━━━━━━━━━━━━━━━━━━━━━\u001b[0m\u001b[90m╺\u001b[0m\u001b[90m━━━━━━━━━━━━━━━━━━\u001b[0m \u001b[32m71.7/135.4 kB\u001b[0m \u001b[31m2.0 MB/s\u001b[0m eta \u001b[36m0:00:01\u001b[0m\r",
      "\u001b[2K     \u001b[90m━━━━━━━━━━━━━━━━━━━━━━━━━━━━━━━━━━━━━━━━\u001b[0m \u001b[32m135.4/135.4 kB\u001b[0m \u001b[31m2.7 MB/s\u001b[0m eta \u001b[36m0:00:00\u001b[0m\n",
      "\u001b[?25hRequirement already satisfied: numpy in /usr/local/lib/python3.10/dist-packages (from deap) (1.23.5)\n",
      "Installing collected packages: deap\n",
      "Successfully installed deap-1.4.1\n"
     ]
    }
   ],
   "source": [
    "!pip install deap"
   ]
  },
  {
   "cell_type": "code",
   "execution_count": 23,
   "metadata": {
    "executionInfo": {
     "elapsed": 9,
     "status": "ok",
     "timestamp": 1698162306618,
     "user": {
      "displayName": "Judecir Júnior",
      "userId": "05429191402490882278"
     },
     "user_tz": -60
    },
    "id": "ZDNVxIT_g9da"
   },
   "outputs": [],
   "source": [
    "from deap import base, creator, tools, algorithms\n",
    "import numpy as np"
   ]
  },
  {
   "cell_type": "code",
   "execution_count": 24,
   "metadata": {
    "executionInfo": {
     "elapsed": 856,
     "status": "ok",
     "timestamp": 1698162307466,
     "user": {
      "displayName": "Judecir Júnior",
      "userId": "05429191402490882278"
     },
     "user_tz": -60
    },
    "id": "LUsgJIpShT_G"
   },
   "outputs": [],
   "source": [
    "# Define o tamanho da população inicial\n",
    "tam_populacao_inicial = 100\n",
    "# Define a probabilidade de cruzamento\n",
    "prob_cruzamento = 0.7\n",
    "# Define a probabilidade de mutação\n",
    "prob_mutacao = 0.1\n",
    "# Define o número de gerações\n",
    "numero_geracoes = 100\n",
    "\n",
    "# Cria o tipo 'FitnessMin' que visa minimizar o valor da função objetivo (distância da rota)\n",
    "creator.create(\"FitnessMin\", base.Fitness, weights=(-1.0,))\n",
    "# Cria o tipo 'Individuo', que é uma lista com um atributo de fitness do tipo 'FitnessMin'\n",
    "creator.create(\"Individuo\", list, fitness=creator.FitnessMin)\n",
    "\n",
    "# Inicializa uma caixa de ferramentas para armazenar as configurações do algoritmo\n",
    "toolbox = base.Toolbox()\n",
    "# Registra a função 'Genes', que gera uma permutação aleatória de índices dos endereços\n",
    "toolbox.register(\"Genes\", np.random.permutation, len(enderecos))\n",
    "# Registra a função 'Individuos', que inicializa um indivíduo (rota) usando 'Genes'\n",
    "toolbox.register(\"Individuos\", tools.initIterate, creator.Individuo, toolbox.Genes)\n",
    "\n",
    "# Registra a função 'Populacao', que cria uma população de indivíduos\n",
    "toolbox.register(\"Populacao\", tools.initRepeat, list, toolbox.Individuos)\n",
    "# Cria a população inicial com 'tam_populacao_inicial' indivíduos\n",
    "populacao = toolbox.Populacao(n=tam_populacao_inicial)\n",
    "\n",
    "# Registra o operador de cruzamento do tipo 'cxPartialyMatched'\n",
    "toolbox.register(\"mate\", tools.cxPartialyMatched)\n",
    "# Registra o operador de mutação do tipo 'mutShuffleIndexes' com probabilidade de mutação por bit 'indpb'\n",
    "toolbox.register(\"mutate\", tools.mutShuffleIndexes, indpb=prob_mutacao)\n",
    "# Registra o operador de seleção do tipo 'selTournament' com tamanho do torneio '3'\n",
    "toolbox.register(\"select\", tools.selTournament, tournsize=3)\n",
    "# Registra a função de avaliação 'avaliar' com os argumentos de origem, endereços e destino\n",
    "toolbox.register(\"evaluate\", avaliar, origem=origem, enderecos=enderecos, destino=destino)\n",
    "\n",
    "# Executa o algoritmo genético simples com os operadores e parâmetros definidos anteriormente\n",
    "algoritmo = algorithms.eaSimple(populacao,\n",
    "                                toolbox,\n",
    "                                cxpb=prob_cruzamento,  # Probabilidade de cruzamento\n",
    "                                mutpb=prob_cruzamento,  # Probabilidade de mutação\n",
    "                                ngen=numero_geracoes,  # Número de gerações\n",
    "                                verbose=False)  # Desativa a saída de log detalhada\n",
    "\n",
    "# Seleciona o melhor indivíduo da população final\n",
    "melhor_ind = tools.selBest(populacao, 1)[0]\n"
   ]
  },
  {
   "cell_type": "code",
   "execution_count": 25,
   "metadata": {
    "colab": {
     "base_uri": "https://localhost:8080/"
    },
    "executionInfo": {
     "elapsed": 7,
     "status": "ok",
     "timestamp": 1698162307466,
     "user": {
      "displayName": "Judecir Júnior",
      "userId": "05429191402490882278"
     },
     "user_tz": -60
    },
    "id": "eVNLq6FJj2vW",
    "outputId": "c71273ad-06a7-488a-ce1b-033904893614"
   },
   "outputs": [
    {
     "data": {
      "text/plain": [
       "[0, 1, 3, 2]"
      ]
     },
     "execution_count": 25,
     "metadata": {},
     "output_type": "execute_result"
    }
   ],
   "source": [
    "melhor_ind"
   ]
  },
  {
   "cell_type": "code",
   "execution_count": 26,
   "metadata": {
    "colab": {
     "base_uri": "https://localhost:8080/",
     "height": 0
    },
    "executionInfo": {
     "elapsed": 436,
     "status": "ok",
     "timestamp": 1698162307897,
     "user": {
      "displayName": "Judecir Júnior",
      "userId": "05429191402490882278"
     },
     "user_tz": -60
    },
    "id": "zM-7PS9qj-5c",
    "outputId": "cafa6701-0212-436a-d2ab-51a44461fe4c"
   },
   "outputs": [
    {
     "data": {
      "image/png": "[encoded data removed]",
      "text/plain": [
       "<Figure size 640x480 with 1 Axes>"
      ]
     },
     "metadata": {},
     "output_type": "display_data"
    }
   ],
   "source": [
    "# Inicializa a variável menor_rota com o ponto de origem\n",
    "menor_rota = [origem]\n",
    "\n",
    "# Itera sobre os índices contidos no melhor indivíduo encontrado\n",
    "# Cada índice em melhor_ind corresponde a um endereço na lista de endereços\n",
    "for i in melhor_ind:\n",
    "    # Adiciona o endereço correspondente ao índice i na lista menor_rota\n",
    "    menor_rota.append(enderecos[i])\n",
    "\n",
    "# Após iterar por todos os endereços, adiciona o ponto de destino à lista menor_rota\n",
    "menor_rota.append(destino)\n",
    "\n",
    "# Utiliza a função desenhar_rota para visualizar graficamente a rota encontrada\n",
    "# Esta função deve estar definida previamente e ser capaz de receber uma lista de pontos (rota)\n",
    "# e desenhar a rota correspondente\n",
    "desenhar_rota(menor_rota)\n"
   ]
  },
  {
   "cell_type": "markdown",
   "metadata": {
    "id": "k2SGQgRDb6GD"
   },
   "source": [
    "## 2.3 - Comentários sobre algoritmos genéticos\n"
   ]
  },
  {
   "cell_type": "markdown",
   "metadata": {
    "id": "9e2kmUSGta4t"
   },
   "source": [
    "Dessa forma, podemos criar uma função para chamar a execução de um algoritmo genético."
   ]
  },
  {
   "cell_type": "code",
   "execution_count": 27,
   "metadata": {
    "executionInfo": {
     "elapsed": 11,
     "status": "ok",
     "timestamp": 1698162307898,
     "user": {
      "displayName": "Judecir Júnior",
      "userId": "05429191402490882278"
     },
     "user_tz": -60
    },
    "id": "VyQqcp_mkPbe"
   },
   "outputs": [],
   "source": [
    "def algoritmo_genetico(origem, destino, enderecos, tam_populacao_inicial=100, prob_cruzamento=0.7, prob_mutacao=0.1, numero_geracoes=100):\n",
    "\n",
    "  # Cria o tipo 'FitnessMin' que visa minimizar o valor da função objetivo (distância da rota)\n",
    "  creator.create(\"FitnessMin\", base.Fitness, weights=(-1.0,))\n",
    "  # Cria o tipo 'Individuo', que é uma lista com um atributo de fitness do tipo 'FitnessMin'\n",
    "  creator.create(\"Individuo\", list, fitness=creator.FitnessMin)\n",
    "\n",
    "  # Inicializa uma caixa de ferramentas para armazenar as configurações do algoritmo\n",
    "  toolbox = base.Toolbox()\n",
    "  # Registra a função 'Genes', que gera uma permutação aleatória de índices dos endereços\n",
    "  toolbox.register(\"Genes\", np.random.permutation, len(enderecos))\n",
    "  # Registra a função 'Individuos', que inicializa um indivíduo (rota) usando 'Genes'\n",
    "  toolbox.register(\"Individuos\", tools.initIterate, creator.Individuo, toolbox.Genes)\n",
    "\n",
    "  # Registra a função 'Populacao', que cria uma população de indivíduos\n",
    "  toolbox.register(\"Populacao\", tools.initRepeat, list, toolbox.Individuos)\n",
    "  # Cria a população inicial com 'tam_populacao_inicial' indivíduos\n",
    "  populacao = toolbox.Populacao(n=tam_populacao_inicial)\n",
    "\n",
    "  # Registra o operador de cruzamento do tipo 'cxPartialyMatched'\n",
    "  toolbox.register(\"mate\", tools.cxPartialyMatched)\n",
    "  # Registra o operador de mutação do tipo 'mutShuffleIndexes' com probabilidade de mutação por bit 'indpb'\n",
    "  toolbox.register(\"mutate\", tools.mutShuffleIndexes, indpb=prob_mutacao)\n",
    "  # Registra o operador de seleção do tipo 'selTournament' com tamanho do torneio '3'\n",
    "  toolbox.register(\"select\", tools.selTournament, tournsize=3)\n",
    "  # Registra a função de avaliação 'avaliar' com os argumentos de origem, endereços e destino\n",
    "  toolbox.register(\"evaluate\", avaliar, origem=origem, enderecos=enderecos, destino=destino)\n",
    "\n",
    "  # Executa o algoritmo genético simples com os operadores e parâmetros definidos anteriormente\n",
    "  algoritmo = algorithms.eaSimple(populacao,\n",
    "                                  toolbox,\n",
    "                                  cxpb=prob_cruzamento,  # Probabilidade de cruzamento\n",
    "                                  mutpb=prob_cruzamento,  # Probabilidade de mutação\n",
    "                                  ngen=numero_geracoes,  # Número de gerações\n",
    "                                  verbose=False)  # Desativa a saída de log detalhada\n",
    "\n",
    "  # Seleciona o melhor indivíduo da população final\n",
    "  melhor_ind = tools.selBest(populacao, 1)[0]\n",
    "\n",
    "\n",
    "  # Inicializa a variável menor_rota com o ponto de origem\n",
    "  menor_rota = [origem]\n",
    "\n",
    "  # Itera sobre os índices contidos no melhor indivíduo encontrado\n",
    "  # Cada índice em melhor_ind corresponde a um endereço na lista de endereços\n",
    "  for i in melhor_ind:\n",
    "      # Adiciona o endereço correspondente ao índice i na lista menor_rota\n",
    "      menor_rota.append(enderecos[i])\n",
    "\n",
    "  # Após iterar por todos os endereços, adiciona o ponto de destino à lista menor_rota\n",
    "  menor_rota.append(destino)\n",
    "\n",
    "  # Calcula distancia percorrida\n",
    "  distancia_percorrida = calcular_distancia_rota(menor_rota)\n",
    "\n",
    "  return menor_rota, distancia_percorrida"
   ]
  },
  {
   "cell_type": "code",
   "execution_count": 28,
   "metadata": {
    "executionInfo": {
     "elapsed": 10,
     "status": "ok",
     "timestamp": 1698162307898,
     "user": {
      "displayName": "Judecir Júnior",
      "userId": "05429191402490882278"
     },
     "user_tz": -60
    },
    "id": "ZEbzT3J1l0IP"
   },
   "outputs": [],
   "source": [
    "origem = (0,0)\n",
    "destino = (4,4)\n",
    "\n",
    "enderecos = [(2,2), (2, 1), (5, 3), (8, 3), (10, 5), (9, 4), (8, 7), (6, 3), (9, 6), (7, 5), (9, 1), (11, 10), (3, 6), (10, 10)]"
   ]
  },
  {
   "cell_type": "code",
   "execution_count": 29,
   "metadata": {
    "colab": {
     "base_uri": "https://localhost:8080/"
    },
    "executionInfo": {
     "elapsed": 2410,
     "status": "ok",
     "timestamp": 1698162310298,
     "user": {
      "displayName": "Judecir Júnior",
      "userId": "05429191402490882278"
     },
     "user_tz": -60
    },
    "id": "z-h8p7I-l-Fs",
    "outputId": "f94787af-0527-4553-f84a-eaf437b6f6fa"
   },
   "outputs": [
    {
     "name": "stderr",
     "output_type": "stream",
     "text": [
      "/usr/local/lib/python3.10/dist-packages/deap/creator.py:185: RuntimeWarning: A class named 'FitnessMin' has already been created and it will be overwritten. Consider deleting previous creation of that class or rename it.\n",
      "  warnings.warn(\"A class named '{0}' has already been created and it \"\n",
      "/usr/local/lib/python3.10/dist-packages/deap/creator.py:185: RuntimeWarning: A class named 'Individuo' has already been created and it will be overwritten. Consider deleting previous creation of that class or rename it.\n",
      "  warnings.warn(\"A class named '{0}' has already been created and it \"\n"
     ]
    }
   ],
   "source": [
    "menor_rota, distancia_percorrida = algoritmo_genetico(origem, destino, enderecos, numero_geracoes=100)"
   ]
  },
  {
   "cell_type": "code",
   "execution_count": 30,
   "metadata": {
    "colab": {
     "base_uri": "https://localhost:8080/",
     "height": 0
    },
    "executionInfo": {
     "elapsed": 940,
     "status": "ok",
     "timestamp": 1698162311234,
     "user": {
      "displayName": "Judecir Júnior",
      "userId": "05429191402490882278"
     },
     "user_tz": -60
    },
    "id": "vlmnUl_DmKBc",
    "outputId": "6a47af44-7e56-4601-b28d-79d0fba9a5aa"
   },
   "outputs": [
    {
     "data": {
      "image/png": "[encoded data removed]",
      "text/plain": [
       "<Figure size 640x480 with 1 Axes>"
      ]
     },
     "metadata": {},
     "output_type": "display_data"
    }
   ],
   "source": [
    "desenhar_rota(menor_rota)"
   ]
  },
  {
   "cell_type": "markdown",
   "metadata": {
    "id": "f8Yqff8zb-ry"
   },
   "source": [
    "# 3 - Algoritmos em grafos"
   ]
  },
  {
   "cell_type": "markdown",
   "metadata": {
    "id": "K19h6gUS0q9_"
   },
   "source": [
    "## 3.1 - Representando o grafo"
   ]
  },
  {
   "cell_type": "markdown",
   "metadata": {
    "id": "qbtWfaPbTOpx"
   },
   "source": [
    "Para uma melhor visualização e compreensão do nosso problema de entregas, podemos representá-lo como um grafo direcionado. Em um grafo, temos nós (ou vértices) e arestas. Neste caso específico, cada nó representa um local (seja a origem, o destino ou um dos endereços de entrega), e as arestas representam o caminho entre dois locais, com um valor associado que indica a distância entre eles.\n",
    "\n",
    "Vamos utilizar a biblioteca NetworkX, uma poderosa ferramenta Python para a criação, análise e visualização de grafos. A NetworkX já está disponível por padrão no Google Colab, não sendo necessária sua instalação.\n",
    "\n",
    "**Estrutura do Grafo**\n",
    "\n",
    "Nós: Cada nó do grafo representa um local. A origem e o destino são adicionados como nós, assim como cada endereço de entrega. Associado a cada nó, temos as coordenadas do local que ele representa.\n",
    "\n",
    "Arestas: As arestas conectam dois nós e representam o caminho entre dois locais. Associado a cada aresta, temos a distância entre os dois locais que ela conecta. Adicionamos arestas conectando a origem a cada endereço, cada endereço ao destino, e cada par de endereços distintos."
   ]
  },
  {
   "cell_type": "code",
   "execution_count": 31,
   "metadata": {
    "executionInfo": {
     "elapsed": 285,
     "status": "ok",
     "timestamp": 1698162311511,
     "user": {
      "displayName": "Judecir Júnior",
      "userId": "05429191402490882278"
     },
     "user_tz": -60
    },
    "id": "Hexyq0afVB7e"
   },
   "outputs": [],
   "source": [
    "import networkx as nx"
   ]
  },
  {
   "cell_type": "code",
   "execution_count": 32,
   "metadata": {
    "executionInfo": {
     "elapsed": 5,
     "status": "ok",
     "timestamp": 1698162311511,
     "user": {
      "displayName": "Judecir Júnior",
      "userId": "05429191402490882278"
     },
     "user_tz": -60
    },
    "id": "vYxD2oMOXCX2"
   },
   "outputs": [],
   "source": [
    "origem = (0,0)\n",
    "destino = (4,4)\n",
    "\n",
    "enderecos = [(2, 1), (2,2), (8, 3), (5, 3)]"
   ]
  },
  {
   "cell_type": "code",
   "execution_count": 33,
   "metadata": {
    "colab": {
     "base_uri": "https://localhost:8080/",
     "height": 0
    },
    "executionInfo": {
     "elapsed": 993,
     "status": "ok",
     "timestamp": 1698162312500,
     "user": {
      "displayName": "Judecir Júnior",
      "userId": "05429191402490882278"
     },
     "user_tz": -60
    },
    "id": "GG3pqAtPXPVr",
    "outputId": "4bc9f2d2-30a9-45ef-b7c5-379e59ac0304"
   },
   "outputs": [
    {
     "data": {
      "image/png": "[encoded data removed]",
      "text/plain": [
       "<Figure size 640x480 with 1 Axes>"
      ]
     },
     "metadata": {},
     "output_type": "display_data"
    }
   ],
   "source": [
    "# Inicializando um Grafo Direcionado\n",
    "G = nx.DiGraph()\n",
    "\n",
    "# Adicionando o nó de origem com suas coordenadas\n",
    "G.add_node('origem', local=origem)\n",
    "# Adicionando o nó de destino com suas coordenadas\n",
    "G.add_node('destino', local=destino)\n",
    "\n",
    "# Iterando sobre a lista de endereços para adicionar cada endereço como um nó no grafo\n",
    "for i, endereco in enumerate(enderecos):\n",
    "    # O índice i identifica unicamente cada endereço\n",
    "    # O parâmetro 'local' recebe as coordenadas do endereço\n",
    "    G.add_node(i, local=endereco)\n",
    "\n",
    "# Adicionando arestas ao grafo\n",
    "for i, endereco in enumerate(enderecos):\n",
    "    # Aresta da origem para cada endereço\n",
    "    # A distância euclidiana entre a origem e o endereço é calculada e associada à aresta\n",
    "    G.add_edge('origem', i, distancia=distancia_euclidiana(origem, endereco))\n",
    "\n",
    "    # Aresta de cada endereço para o destino\n",
    "    # A distância euclidiana entre o endereço e o destino é calculada e associada à aresta\n",
    "    G.add_edge(i, 'destino', distancia=distancia_euclidiana(endereco, destino))\n",
    "\n",
    "    # Loop aninhado para criar arestas entre cada par de endereços distintos\n",
    "    for j, endereco2 in enumerate(enderecos):\n",
    "        # Evitando criar aresta de um nó para ele mesmo\n",
    "        if i != j:\n",
    "            # A distância euclidiana entre os dois endereços é calculada e associada à aresta\n",
    "            G.add_edge(i, j, distancia=distancia_euclidiana(endereco, endereco2))\n",
    "\n",
    "# Desenhando o grafo criado\n",
    "# Esta função irá criar uma visualização gráfica do grafo, onde cada nó é um ponto\n",
    "# e cada aresta é uma linha conectando dois pontos\n",
    "nx.draw(G)\n"
   ]
  },
  {
   "cell_type": "markdown",
   "metadata": {
    "id": "P7TGwB050wka"
   },
   "source": [
    "## 3.2 - Caixeiro viajante"
   ]
  },
  {
   "cell_type": "markdown",
   "metadata": {
    "id": "2bW0QQn5U36L"
   },
   "source": [
    "Imaginemos que somos parte de uma empresa de logística, e estamos diante de um desafio significativo. Nossa tarefa é otimizar as rotas de entrega, mas com uma nuance interessante: ao contrário das situações usuais, não precisamos começar a rota de um lugar fixo ou de origem. Temos a liberdade de escolher qualquer endereço como nosso ponto inicial. No entanto, é crucial que o último endereço que visitamos seja o mesmo onde começamos, formando assim um circuito completo.\n",
    "\n",
    "**Entendendo o Problema**\n",
    "\n",
    "Então, o que realmente estamos tentando resolver aqui? Visualize um entregador que tem um conjunto de pacotes, e cada pacote deve ser entregue em um endereço específico. Ele pode começar a entrega de qualquer um desses endereços, mas deve garantir que, no final do circuito, todos os pacotes sejam entregues, e ele retorne ao endereço inicial. A questão é: como podemos garantir que a rota escolhida seja a mais eficiente e minimize a distância total percorrida pelo entregador?\n",
    "\n",
    "Isso é fundamentalmente o que chamamos de \"Problema do Caixeiro Viajante\" (TSP, Travelling Salesman Problem). Este problema é um clássico da otimização, onde o objetivo é encontrar o caminho mais curto que passa por todos os pontos (ou endereços, no nosso caso) exatamente uma vez, retornando ao ponto de partida.\n",
    "\n",
    "\n",
    "**Aplicando ao Nosso Contexto de Entregas**\n",
    "\n",
    "Para exemplificar e aplicar os conceitos do TSP na prática, vamos usar o problema de entrega que temos em mãos, que consiste em uma origem, um destino e uma lista de endereços a serem visitados.\n",
    "\n",
    "Vamos assumir que a nossa lista de endereços é tudo o que precisamos considerar neste exemplo, ou seja, descartaremos momentaneamente a origem e destino do problema. Vamos criar um grafo usando esses endereços e aplicar o algoritmo do TSP para encontrar a rota mais eficiente.\n",
    "\n",
    "Isso nos ajudará a entender melhor como os algoritmos do TSP funcionam e como podemos utilizá-los para melhorar e otimizar as operações de entrega da nossa empresa, garantindo que os pacotes cheguem aos destinos de maneira rápida e eficiente. Ao fazer isso, estaremos dando um passo valioso para melhorar nossos serviços e satisfazer nossos clientes."
   ]
  },
  {
   "cell_type": "code",
   "execution_count": 34,
   "metadata": {
    "colab": {
     "base_uri": "https://localhost:8080/",
     "height": 0
    },
    "executionInfo": {
     "elapsed": 614,
     "status": "ok",
     "timestamp": 1698162313109,
     "user": {
      "displayName": "Judecir Júnior",
      "userId": "05429191402490882278"
     },
     "user_tz": -60
    },
    "id": "vgAB9kIBcGhG",
    "outputId": "3d521e31-ae1d-49ab-c593-5c8377d5aff6"
   },
   "outputs": [
    {
     "data": {
      "image/png": "[encoded data removed]",
      "text/plain": [
       "<Figure size 640x480 with 1 Axes>"
      ]
     },
     "metadata": {},
     "output_type": "display_data"
    }
   ],
   "source": [
    "# Criamos um grafo direcionado. Cada nó (ou vértice) representa um endereço.\n",
    "G_teste = nx.DiGraph()\n",
    "\n",
    "# Adicionando cada endereço como um nó no grafo.\n",
    "for i, endereco in enumerate(enderecos):\n",
    "  # Adiciona um nó com uma etiqueta (i) e uma localização (endereço).\n",
    "  G_teste.add_node(i, local=endereco)\n",
    "\n",
    "# Agora, vamos conectar cada nó a todos os outros nós (criando um grafo completo).\n",
    "for i, endereco in enumerate(enderecos):\n",
    "  for j, endereco2 in enumerate(enderecos):\n",
    "    if i!=j:  # Evitamos conectar um nó a ele mesmo.\n",
    "      # Adicionamos uma aresta entre cada par de nós junto com o peso (distância entre os endereços).\n",
    "      G_teste.add_edge(i, j, weight=distancia_euclidiana(endereco, endereco2))\n",
    "\n",
    "# Finalmente, desenhamos o grafo para ter uma representação visual das conexões entre os endereços.\n",
    "nx.draw(G_teste)\n"
   ]
  },
  {
   "cell_type": "code",
   "execution_count": 35,
   "metadata": {
    "colab": {
     "base_uri": "https://localhost:8080/"
    },
    "executionInfo": {
     "elapsed": 10,
     "status": "ok",
     "timestamp": 1698162313109,
     "user": {
      "displayName": "Judecir Júnior",
      "userId": "05429191402490882278"
     },
     "user_tz": -60
    },
    "id": "BYi0mNmJjYSW",
    "outputId": "4bcf886b-dcd7-4562-ca1f-65f0d8d93dc6"
   },
   "outputs": [
    {
     "name": "stdout",
     "output_type": "stream",
     "text": [
      "[1, 0, 2, 3, 1]\n"
     ]
    }
   ],
   "source": [
    "tsp = nx.approximation.traveling_salesman_problem(G_teste, weight=\"weight\")\n",
    "print(tsp)"
   ]
  },
  {
   "cell_type": "markdown",
   "metadata": {
    "id": "uVeumEaL00B4"
   },
   "source": [
    "## 3.3 - Caixeiro viajante para o problema das entregas"
   ]
  },
  {
   "cell_type": "markdown",
   "metadata": {
    "id": "Nujjq_ZYYMGJ"
   },
   "source": [
    "**Construindo o Grafo para o Nosso Problema de Logística**\n",
    "\n",
    "Na nossa jornada para solucionar o problema das entregas, decidimos construir um grafo que irá representar de maneira clara e eficiente as rotas que podemos seguir. Este grafo nos permitirá visualizar e calcular as melhores rotas possíveis entre os pontos de origem, destino e todos os endereços que precisamos visitar.\n",
    "\n",
    "Mas, o que estamos buscando não é um grafo qualquer. Queremos construir um **grafo fortemente conexo**. Isso significa que de cada nó (ou endereço) em nosso grafo, deve ser possível chegar a qualquer outro nó diretamente, o que reflete a realidade das opções de rota que nossa equipe de entregas pode enfrentar no campo. Mas como podemos fazer isso?\n",
    "\n",
    "**Tornando o Grafo Fortemente Conexo**\n",
    "\n",
    "Uma estratégia é adicionar uma aresta do nó de destino de volta ao nó de origem, efetivamente fechando o ciclo e garantindo que todos os nós estejam interconectados.\n",
    "\n",
    "No nosso caso, vamos adicionar uma aresta com peso \\(0\\) (distância \\(0\\)) do nó de destino para o nó de origem. Isso simboliza que, após a última entrega ser feita, podemos retornar ao ponto de origem sem percorrer nenhuma distância adicional, completando assim o ciclo, tornando o grafo fortemente conexo e adequado para resolver o TSP.\n",
    "\n",
    "Assim, podemos criar uma função ```criar_grafo``` que contém um parâmetro ```flag_fortemente_conexo```  que indica se queremos ou não adicionar uma aresta de retorno do destino para a origem com uma \"distância\" de zero, assegurando que nosso grafo seja agora fortemente conexo e esteja bem equipado para representar todas as possíveis rotas de entrega que precisamos considerar.\n",
    "\n",
    "Com essa modificação, nosso grafo estará  totalmente preparado para ajudar-nos a explorar, avaliar e identificar a rota mais eficiente para nosso problema de logística."
   ]
  },
  {
   "cell_type": "code",
   "execution_count": 36,
   "metadata": {
    "executionInfo": {
     "elapsed": 8,
     "status": "ok",
     "timestamp": 1698162313109,
     "user": {
      "displayName": "Judecir Júnior",
      "userId": "05429191402490882278"
     },
     "user_tz": -60
    },
    "id": "JD1mAZUijlN0"
   },
   "outputs": [],
   "source": [
    "def criar_grafo(origem, destino, enderecos, flag_fortemente_conexo=False):\n",
    "  G = nx.DiGraph()\n",
    "  # Adicionando o nó de origem ao grafo\n",
    "  G.add_node('origem', local=origem)\n",
    "\n",
    "  # Adicionando o nó de destino ao grafo\n",
    "  G.add_node('destino', local=destino)\n",
    "\n",
    "  for i, endereco in enumerate(enderecos):\n",
    "    # Adicionando cada endereço como um nó no grafo\n",
    "    G.add_node(i, local=endereco)\n",
    "\n",
    "  for i, endereco in enumerate(enderecos):\n",
    "    # Conectando cada endereço à origem e ao destino com o peso sendo a distância euclidiana\n",
    "    G.add_edge('origem', i, weight=distancia_euclidiana(origem, endereco))\n",
    "    G.add_edge(i, 'destino', weight=distancia_euclidiana(endereco, destino))\n",
    "    for j, endereco2 in enumerate(enderecos):\n",
    "      if i!=j:\n",
    "        # Conectando cada endereço a todos os outros endereços\n",
    "        G.add_edge(i, j, weight=distancia_euclidiana(endereco, endereco2))\n",
    "\n",
    "  if flag_fortemente_conexo == True:\n",
    "    # Conectando o destino de volta à origem para tornar o grafo fortemente conexo\n",
    "    G.add_edge(\"destino\", \"origem\", weight=0)\n",
    "\n",
    "  return G  # Retornando o grafo criado\n",
    "\n",
    "def algoritmo_em_grafo(origem, destino, enderecos):\n",
    "  # Criando um grafo fortemente conexo\n",
    "  G = criar_grafo(origem, destino, enderecos, flag_fortemente_conexo=True)\n",
    "\n",
    "  # Resolvendo o problema do caixeiro viajante para encontrar o ciclo mais curto\n",
    "  ciclo = nx.approximation.traveling_salesman_problem(G, weight=\"weight\", cycle=False)\n",
    "\n",
    "  indice_origem = ciclo.index(\"origem\")  # Encontrando o índice da origem no ciclo\n",
    "  ciclo_rotacionado = ciclo[indice_origem:] + ciclo[:indice_origem]  # Rotacionando o ciclo para começar pela origem\n",
    "\n",
    "  ciclo_rotacionado.remove(\"origem\")  # Removendo o nó de origem do ciclo\n",
    "  ciclo_rotacionado.remove(\"destino\")  # Removendo o nó de destino do ciclo\n",
    "\n",
    "  melhor_rota = [origem]  # Inicializando a melhor rota com a origem\n",
    "\n",
    "  for i in ciclo_rotacionado:\n",
    "    # Adicionando cada endereço da melhor rota encontrada\n",
    "    melhor_rota.append(enderecos[i])\n",
    "  melhor_rota.append(destino)  # Adicionando o destino ao final da melhor rota\n",
    "\n",
    "  # Calculando a distância total percorrida na melhor rota\n",
    "  distancia_percorrida = calcular_distancia_rota(melhor_rota)\n",
    "\n",
    "  return melhor_rota, distancia_percorrida  # Retornando a melhor rota e a distância total percorrida\n"
   ]
  },
  {
   "cell_type": "code",
   "execution_count": 37,
   "metadata": {
    "colab": {
     "base_uri": "https://localhost:8080/"
    },
    "executionInfo": {
     "elapsed": 4438,
     "status": "ok",
     "timestamp": 1698162317540,
     "user": {
      "displayName": "Judecir Júnior",
      "userId": "05429191402490882278"
     },
     "user_tz": -60
    },
    "id": "Ku9DazcnnCJ3",
    "outputId": "07c5a739-93d4-4f7d-a4c9-52b0070ecc37"
   },
   "outputs": [
    {
     "name": "stdout",
     "output_type": "stream",
     "text": [
      "[(0, 0), (2, 1), (2, 2), (5, 3), (8, 3), (4, 4)] 13.52145126328583\n"
     ]
    }
   ],
   "source": [
    "origem = (0,0)\n",
    "destino = (4,4)\n",
    "\n",
    "enderecos = [(2, 1), (2,2), (8, 3), (5, 3)]\n",
    "melhor_rota, distancia_percorrida = algoritmo_em_grafo(origem, destino, enderecos)\n",
    "print(melhor_rota, distancia_percorrida)"
   ]
  },
  {
   "cell_type": "code",
   "execution_count": 38,
   "metadata": {
    "colab": {
     "base_uri": "https://localhost:8080/",
     "height": 0
    },
    "executionInfo": {
     "elapsed": 437,
     "status": "ok",
     "timestamp": 1698162317955,
     "user": {
      "displayName": "Judecir Júnior",
      "userId": "05429191402490882278"
     },
     "user_tz": -60
    },
    "id": "5Y1y3ZgXo0pp",
    "outputId": "4e4fbebf-5ee2-48e4-f29f-bb149c254b37"
   },
   "outputs": [
    {
     "data": {
      "image/png": "[encoded data removed]",
      "text/plain": [
       "<Figure size 640x480 with 1 Axes>"
      ]
     },
     "metadata": {},
     "output_type": "display_data"
    }
   ],
   "source": [
    "desenhar_rota(melhor_rota)"
   ]
  },
  {
   "cell_type": "markdown",
   "metadata": {
    "id": "y7x0eZl_031J"
   },
   "source": [
    "# 4 - Modelagem Matemática"
   ]
  },
  {
   "cell_type": "markdown",
   "metadata": {
    "id": "Lno6w0SQcKnU"
   },
   "source": [
    "**Modelagem Matemática**\n",
    "\n",
    "Ao enfrentarmos desafios intrincados em diversas áreas, como ciência, engenharia ou logística, a modelagem matemática surge como uma ferramenta crucial. Ela nos permite encapsular a complexidade desses problemas em uma estrutura bem definida e analítica. O objetivo é simplificar o problema real, transformando-o em uma representação matemática concisa. Este processo envolve a identificação e integração de variáveis e parâmetros essenciais, bem como a definição clara das relações entre eles.\n",
    "\n",
    "**Componentes Fundamentais da Modelagem Matemática:**\n",
    "\n",
    "1. **Parâmetros:** Estes são os componentes fixos e conhecidos dentro do nosso modelo. Eles formam a base sobre a qual construímos nossa estrutura de modelagem, fornecendo as informações necessárias e essenciais que direcionam o processo de tomada de decisão.\n",
    "\n",
    "2. **Variáveis de Decisão:** As variáveis de decisão são os elementos que determinam as soluções possíveis para o nosso problema. Elas são as incógnitas que queremos resolver. Além das principais variáveis de decisão, também podemos ter variáveis auxiliares que facilitam o processo de solução. Estas variáveis podem ser contínuas (números reais) ou discretas (inteiros, incluindo variáveis binárias que assumem valores de 0 ou 1).\n",
    "\n",
    "3. **Função Objetivo:** A função objetivo é o coração do modelo, guiando a direção da otimização. Ela define o que queremos alcançar, maximizar ou minimizar, e é expressa em termos das variáveis de decisão. O objetivo pode ser o custo, lucro, eficiência ou qualquer outra métrica que seja crucial para o problema em questão.\n",
    "\n",
    "4. **Restrições:** As restrições são as regras ou limitações impostas ao nosso problema. Elas formam os contornos dentro dos quais as soluções possíveis devem residir. As restrições podem refletir limites de recursos, regulamentos, políticas ou qualquer outra condição que deve ser satisfeita.\n",
    "\n",
    "Ao orquestrar cuidadosamente esses componentes dentro de um modelo matemático, somos capazes de formular uma representação simbólica do problema real. Isso nos permite empregar técnicas analíticas e computacionais para explorar, analisar e, eventualmente, identificar soluções otimizadas para o problema em estudo.\n",
    "\n",
    "Mas, após a formulação matemática do problema, enfrentamos o desafio de comunicar essa formulação ao computador de maneira que ele possa entender e processar. Aqui é onde entram em jogo a linguagem de modelagem e os solvers.\n",
    "\n",
    "**Linguagem de Modelagem:**\n",
    "\n",
    "A linguagem de modelagem atua como um tradutor, permitindo que comuniquemos o problema matemático ao computador. Utilizamos essa linguagem para definir as variáveis, restrições, parâmetros e a função objetivo de nosso modelo, organizando-os de maneira que o solver possa interpretar e processar. Vamos empregar o **OR-Tools**, especificamente o `pywraplp`, que é uma linguagem de modelagem poderosa. O `pywraplp` nos permite definir as variáveis, parâmetros, restrições e a função objetivo do nosso modelo de uma maneira que o computador possa interpretar e processar eficientemente.\n",
    "\n",
    "**Solver:**\n",
    "\n",
    "O solver é o mecanismo que pega o problema traduzido e busca uma solução. Ele aplica algoritmos e métodos numéricos para explorar o espaço de soluções possíveis, identificando a melhor solução de acordo com a função objetivo e as restrições definidas. Assim, escolhemos o **SCIP** como nosso solver. O SCIP é um solver avançado que tomará o modelo formulado e aplicará algoritmos sofisticados para encontrar a melhor solução possível, considerando as restrições e objetivos definidos no nosso modelo.\n",
    "\n",
    "Ambos, linguagem de modelagem e solver, são vitais para traduzir e resolver um modelo matemático em um ambiente computacional, facilitando a análise e a tomada de decisões baseada em dados para problemas complexos."
   ]
  },
  {
   "cell_type": "markdown",
   "metadata": {
    "id": "3QobIwkX05CJ"
   },
   "source": [
    "## 4.1 - Parâmetros, variáveis de decisão e função objetivo"
   ]
  },
  {
   "cell_type": "markdown",
   "metadata": {
    "id": "lpsGPplqdKJ2"
   },
   "source": [
    "\n",
    "No contexto do nosso problema de entregas, estamos interessados em encontrar a rota mais eficiente para a realização de entregas em diferentes endereços, considerando uma origem e um destino final. Para isso, construímos um modelo matemático baseado em grafos.\n",
    "\n",
    "1. **Grafo ($G$):** Nós definimos ($G$) como um grafo direcionado, composto por vértices ($V$) e arestas ($A$). Cada vértice no grafo representa um local que precisa ser visitado, e cada aresta representa o caminho entre dois locais. O grafo nos permite visualizar e calcular os caminhos possíveis que o entregador pode seguir para completar todas as entregas.\n",
    "\n",
    "2. **Distância ($d_{ij}$):** Associamos um peso ($d_{ij}$) a cada aresta do grafo, que representa a distância entre o endereço $i$ e o endereço $j$ (ou seja, entre dois vértices consecutivos). Estes pesos são essenciais para calcular e comparar o comprimento de diferentes rotas, permitindo-nos encontrar a rota mais eficiente.\n",
    "\n",
    "3. **Número de Vértices ($n$):** O parâmetro ($n$) denota o número total de vértices em nosso grafo, o que também representa o total de locais a serem visitados, incluindo a origem e o destino. Este parâmetro nos ajuda a entender a complexidade do problema, uma vez que mais vértices implicam em mais possíveis rotas a considerar.\n",
    "\n",
    "Ao incorporar esses parâmetros em nosso modelo, podemos representar o problema de entregas de uma maneira matematicamente sólida, facilitando a utilização de algoritmos e técnicas de otimização para encontrar a solução mais eficiente. Isso nos permite manipular, analisar e resolver o problema utilizando ferramentas matemáticas e computacionais."
   ]
  },
  {
   "cell_type": "code",
   "execution_count": 39,
   "metadata": {
    "colab": {
     "base_uri": "https://localhost:8080/",
     "height": 0
    },
    "executionInfo": {
     "elapsed": 1028,
     "status": "ok",
     "timestamp": 1698162318979,
     "user": {
      "displayName": "Judecir Júnior",
      "userId": "05429191402490882278"
     },
     "user_tz": -60
    },
    "id": "871C-8EWDH6q",
    "outputId": "8fafee98-8898-4d4c-cabc-08b9d9f95e00"
   },
   "outputs": [
    {
     "data": {
      "image/png": "[encoded data removed]",
      "text/plain": [
       "<Figure size 640x480 with 1 Axes>"
      ]
     },
     "metadata": {},
     "output_type": "display_data"
    }
   ],
   "source": [
    "G = criar_grafo(origem, destino, enderecos)\n",
    "nx.draw(G)"
   ]
  },
  {
   "cell_type": "markdown",
   "metadata": {
    "id": "BvtTnkiAgFSr"
   },
   "source": [
    "Para acessar uma distância para usar o método ```get_edge_data``` do grafo construído."
   ]
  },
  {
   "cell_type": "code",
   "execution_count": 40,
   "metadata": {
    "colab": {
     "base_uri": "https://localhost:8080/"
    },
    "executionInfo": {
     "elapsed": 9,
     "status": "ok",
     "timestamp": 1698162318979,
     "user": {
      "displayName": "Judecir Júnior",
      "userId": "05429191402490882278"
     },
     "user_tz": -60
    },
    "id": "fVbrpqzQI6Oc",
    "outputId": "fc398105-e3f4-4a94-b768-14402a07d363"
   },
   "outputs": [
    {
     "data": {
      "text/plain": [
       "3.605551275463989"
      ]
     },
     "execution_count": 40,
     "metadata": {},
     "output_type": "execute_result"
    }
   ],
   "source": [
    "G.get_edge_data(0, 3)['weight']"
   ]
  },
  {
   "cell_type": "markdown",
   "metadata": {
    "id": "y1motGG0gMdA"
   },
   "source": [
    "Para acessar o número de nós podemos simplesmente usar o ```number_of_nodes``` do grafo construído."
   ]
  },
  {
   "cell_type": "code",
   "execution_count": 41,
   "metadata": {
    "colab": {
     "base_uri": "https://localhost:8080/"
    },
    "executionInfo": {
     "elapsed": 5,
     "status": "ok",
     "timestamp": 1698162318979,
     "user": {
      "displayName": "Judecir Júnior",
      "userId": "05429191402490882278"
     },
     "user_tz": -60
    },
    "id": "dwX0QnhLJOsN",
    "outputId": "263deae3-5449-412f-f3a7-0e1c505d3352"
   },
   "outputs": [
    {
     "name": "stdout",
     "output_type": "stream",
     "text": [
      "6\n"
     ]
    }
   ],
   "source": [
    "n = G.number_of_nodes()\n",
    "print(n)"
   ]
  },
  {
   "cell_type": "code",
   "execution_count": 42,
   "metadata": {
    "colab": {
     "base_uri": "https://localhost:8080/"
    },
    "executionInfo": {
     "elapsed": 25261,
     "status": "ok",
     "timestamp": 1698162344236,
     "user": {
      "displayName": "Judecir Júnior",
      "userId": "05429191402490882278"
     },
     "user_tz": -60
    },
    "id": "i--Wh6iJJaek",
    "outputId": "81af2117-36df-456f-9e3d-ed4cc2c74f64"
   },
   "outputs": [
    {
     "name": "stdout",
     "output_type": "stream",
     "text": [
      "Collecting ortools\n",
      "  Downloading ortools-9.7.2996-cp310-cp310-manylinux_2_17_x86_64.manylinux2014_x86_64.whl (21.1 MB)\n",
      "\u001b[2K     \u001b[90m━━━━━━━━━━━━━━━━━━━━━━━━━━━━━━━━━━━━━━━━\u001b[0m \u001b[32m21.1/21.1 MB\u001b[0m \u001b[31m15.8 MB/s\u001b[0m eta \u001b[36m0:00:00\u001b[0m\n",
      "\u001b[?25hRequirement already satisfied: absl-py>=0.13 in /usr/local/lib/python3.10/dist-packages (from ortools) (1.4.0)\n",
      "Requirement already satisfied: numpy>=1.13.3 in /usr/local/lib/python3.10/dist-packages (from ortools) (1.23.5)\n",
      "Collecting protobuf>=4.23.3 (from ortools)\n",
      "  Downloading protobuf-4.24.4-cp37-abi3-manylinux2014_x86_64.whl (311 kB)\n",
      "\u001b[2K     \u001b[90m━━━━━━━━━━━━━━━━━━━━━━━━━━━━━━━━━━━━━━━━\u001b[0m \u001b[32m311.6/311.6 kB\u001b[0m \u001b[31m8.8 MB/s\u001b[0m eta \u001b[36m0:00:00\u001b[0m\n",
      "\u001b[?25hInstalling collected packages: protobuf, ortools\n",
      "  Attempting uninstall: protobuf\n",
      "    Found existing installation: protobuf 3.20.3\n",
      "    Uninstalling protobuf-3.20.3:\n",
      "      Successfully uninstalled protobuf-3.20.3\n",
      "\u001b[31mERROR: pip's dependency resolver does not currently take into account all the packages that are installed. This behaviour is the source of the following dependency conflicts.\n",
      "tensorflow-metadata 1.14.0 requires protobuf<4.21,>=3.20.3, but you have protobuf 4.24.4 which is incompatible.\u001b[0m\u001b[31m\n",
      "\u001b[0mSuccessfully installed ortools-9.7.2996 protobuf-4.24.4\n"
     ]
    }
   ],
   "source": [
    "!pip install ortools"
   ]
  },
  {
   "cell_type": "code",
   "execution_count": 43,
   "metadata": {
    "executionInfo": {
     "elapsed": 43,
     "status": "ok",
     "timestamp": 1698162344237,
     "user": {
      "displayName": "Judecir Júnior",
      "userId": "05429191402490882278"
     },
     "user_tz": -60
    },
    "id": "lSSfa_vNJhKi"
   },
   "outputs": [],
   "source": [
    "from ortools.linear_solver import pywraplp"
   ]
  },
  {
   "cell_type": "code",
   "execution_count": 44,
   "metadata": {
    "executionInfo": {
     "elapsed": 42,
     "status": "ok",
     "timestamp": 1698162344237,
     "user": {
      "displayName": "Judecir Júnior",
      "userId": "05429191402490882278"
     },
     "user_tz": -60
    },
    "id": "EAlopTKFJu1P"
   },
   "outputs": [],
   "source": [
    "modelo = pywraplp.Solver.CreateSolver(\"SCIP\")"
   ]
  },
  {
   "cell_type": "markdown",
   "metadata": {
    "id": "NiX6IE7ZKKi7"
   },
   "source": [
    "**Variável $x_{ij}$**\n",
    "\n",
    "A variável $x_{ij}$ é fundamental para determinar a presença ou ausência de uma aresta na solução final. Esta variável é binária, ou seja, assume o valor de 1 ou 0. Se $x_{ij} = 1$, isso indica que a aresta que conecta o vértice $i$ ao vértice $j$ está incluída na rota de entrega; se $x_{ij} = 0$, a aresta é excluída. Essa variável é essencial para estruturar a rota que será percorrida durante as entregas, facilitando o processo de otimização e tomada de decisão.\n",
    "\n",
    "**Variável $u_i$**\n",
    "\n",
    "A variável $u_i$ é uma variável contínua que nos ajuda a evitar subtours, estabelecendo uma ordem específica na qual os vértices (ou endereços de entrega) são visitados. Através da definição de $u_i$, nós conseguimos estabelecer uma sequência, garantindo que cada local seja visitado uma única vez, e assim, mantendo a solução viável e consistente com as necessidades do problema de entrega."
   ]
  },
  {
   "cell_type": "code",
   "execution_count": 45,
   "metadata": {
    "executionInfo": {
     "elapsed": 41,
     "status": "ok",
     "timestamp": 1698162344237,
     "user": {
      "displayName": "Judecir Júnior",
      "userId": "05429191402490882278"
     },
     "user_tz": -60
    },
    "id": "op51FBzjJ_3W"
   },
   "outputs": [],
   "source": [
    "x = {}\n",
    "for i,j in G.edges():\n",
    "  x[(i,j)] = modelo.BoolVar(name=f\"x[{i,j}]\")\n",
    "\n",
    "u = {}\n",
    "for i in G.nodes():\n",
    "  u[i] = modelo.NumVar(lb=1.0, ub=n, name=f\"u[{i}]\")"
   ]
  },
  {
   "cell_type": "markdown",
   "metadata": {
    "id": "rDO5TXrjLRJw"
   },
   "source": [
    "A função objetivo é um componente essencial em problemas de otimização, guiando a busca pela melhor solução. No contexto do problema de entregas, nossa função objetivo é minimizar o total da distância percorrida durante todas as entregas.\n",
    "\n",
    "Representamos a função objetivo matematicamente como:\n",
    "\n",
    "\\[ \\text{min} \\sum_{i,j \\in A} d_{ij} \\cdot x_{ij} \\]\n",
    "\n",
    "Nesta expressão:\n",
    "\n",
    "- $ \\sum_{i,j \\in A} $ é o somatório sobre todas as arestas $ (i, j) $ no conjunto de arestas $ A $.\n",
    "- $ d_{ij} $ é a distância entre os pontos $ i $ e $ j $.\n",
    "- $ x_{ij} $ é uma variável binária que é igual a 1 se a rota entre $ i $ e $ j $ está na solução, e 0 caso contrário.\n",
    "\n",
    "A multiplicação $ d_{ij} \\cdot x_{ij} $ calcula a contribuição total da aresta $ (i, j) $ para a distância total percorrida, considerando apenas as arestas que fazem parte da solução.\n",
    "\n",
    "Finalmente, somamos as contribuições de todas as arestas para obter a distância total a ser minimizada. Ao minimizar essa expressão, buscamos a rota mais eficiente para realizar todas as entregas necessárias."
   ]
  },
  {
   "cell_type": "code",
   "execution_count": 46,
   "metadata": {
    "executionInfo": {
     "elapsed": 41,
     "status": "ok",
     "timestamp": 1698162344238,
     "user": {
      "displayName": "Judecir Júnior",
      "userId": "05429191402490882278"
     },
     "user_tz": -60
    },
    "id": "7XSDqPgfLLd5"
   },
   "outputs": [],
   "source": [
    "modelo.Minimize(sum(G.get_edge_data(i,j)['weight']*x[i,j] for i,j in G.edges()))"
   ]
  },
  {
   "cell_type": "markdown",
   "metadata": {
    "id": "Ofc_uYgq1Pdb"
   },
   "source": [
    "## 4.2 - Restrições"
   ]
  },
  {
   "cell_type": "markdown",
   "metadata": {
    "id": "GihXlMyclYVM"
   },
   "source": [
    "1. **Todo vértice tem uma aresta de saída marcada como 1:**\n",
    "   $ \\sum_{j \\in \\text{sucessor}_i} x_{ij} = 1, \\forall i \\in V \\setminus \\{\\text{destino}\\} $\n",
    "   \n",
    "   Esta restrição assegura que, para cada ponto de entrega (exceto o destino final), há exatamente uma aresta saindo dele que é incluída na solução. Ou seja, para cada local de entrega, haverá uma única transição para o próximo local na rota.\n",
    "\n",
    "2. **Todo vértice tem uma aresta de entrada marcada como 1:**\n",
    "   $ \\sum_{j \\in \\text{predecessor}_i} x_{ij} = 1, \\forall i \\in V \\setminus \\{\\text{origem}\\} $\n",
    "   \n",
    "   Similar à primeira restrição, esta garante que cada ponto de entrega (exceto o ponto de origem) tenha exatamente uma aresta chegando até ele que faz parte da solução. Isso significa que cada local é acessado a partir de um único local anterior na rota.\n",
    "\n",
    "3. **Evitar sub-rotas:**\n",
    "   $ u_i - u_j + n \\cdot x_{ij} \\leq n-1 \\forall i,j \\in E $\n",
    "   \n",
    "   Esta é uma restrição crucial que ajuda a evitar soluções em que são formados ciclos separados ou sub-rotas que não estão conectados ao restante da rota. Aqui:\n",
    "   - $ u_i $ representa a ordem em que o vértice $i$ é visitado.\n",
    "   - A restrição garante que a ordem de visita $ u_i $ e $ u_j $ entre dois vértices $i$ e $j$ seja consistente com a decisão $ x_{ij} $, evitando assim a formação de sub-rotas que não estão conectadas à rota principal.\n",
    "   - O valor de $n$ é o número total de vértices.\n",
    "\n",
    "Essas restrições, em conjunto, ajudam a garantir que a solução seja uma rota única, conectada e coerente, que passe por todos os pontos de entrega uma única vez."
   ]
  },
  {
   "cell_type": "code",
   "execution_count": 47,
   "metadata": {
    "executionInfo": {
     "elapsed": 40,
     "status": "ok",
     "timestamp": 1698162344238,
     "user": {
      "displayName": "Judecir Júnior",
      "userId": "05429191402490882278"
     },
     "user_tz": -60
    },
    "id": "wNQqVPLfL4F5"
   },
   "outputs": [],
   "source": [
    "for i in G.nodes():\n",
    "  if i!='destino':\n",
    "    modelo.Add(sum(x[i,j] for j in G.successors(i)) == 1)\n",
    "\n",
    "  if i!='origem':\n",
    "    modelo.Add(sum(x[j,i] for j in G.predecessors(i)) == 1)\n",
    "\n",
    "for i,j in G.edges():\n",
    "  modelo.Add(u[i] - u[j] + n*x[i,j] <= n -1)"
   ]
  },
  {
   "cell_type": "code",
   "execution_count": 48,
   "metadata": {
    "executionInfo": {
     "elapsed": 37,
     "status": "ok",
     "timestamp": 1698162344238,
     "user": {
      "displayName": "Judecir Júnior",
      "userId": "05429191402490882278"
     },
     "user_tz": -60
    },
    "id": "hgIRKCUfbddn"
   },
   "outputs": [],
   "source": [
    "status = modelo.Solve()"
   ]
  },
  {
   "cell_type": "code",
   "execution_count": 49,
   "metadata": {
    "colab": {
     "base_uri": "https://localhost:8080/"
    },
    "executionInfo": {
     "elapsed": 36,
     "status": "ok",
     "timestamp": 1698162344238,
     "user": {
      "displayName": "Judecir Júnior",
      "userId": "05429191402490882278"
     },
     "user_tz": -60
    },
    "id": "mITD9GmYbcDq",
    "outputId": "7652c3f5-0e69-4508-d15b-d18168c5a404"
   },
   "outputs": [
    {
     "name": "stdout",
     "output_type": "stream",
     "text": [
      "Solução ótima! \n",
      "13.52145126328583\n",
      "origem para 0 com valor: 1.0\n",
      "0 para 1 com valor: 1.0\n",
      "1 para 3 com valor: 1.0\n",
      "2 para destino com valor: 1.0\n",
      "3 para 2 com valor: 1.0\n",
      "origem 1.0\n",
      "destino 6.0\n",
      "0 2.0\n",
      "1 3.0\n",
      "2 5.0\n",
      "3 4.0\n"
     ]
    }
   ],
   "source": [
    "if status == pywraplp.Solver.OPTIMAL :\n",
    "  print(\"Solução ótima! \")\n",
    "  print(modelo.Objective().Value())\n",
    "\n",
    "\n",
    "  for i,j in G.edges():\n",
    "    if x[i,j].solution_value() > 0:\n",
    "      print(f\"{i} para {j} com valor: {x[i,j].solution_value()}\")\n",
    "\n",
    "  for i in G.nodes():\n",
    "      print(i, u[i].solution_value())"
   ]
  },
  {
   "cell_type": "markdown",
   "metadata": {
    "id": "2ZHpuLDt1VQ8"
   },
   "source": [
    "## 4.3 - Resolução do modelo"
   ]
  },
  {
   "cell_type": "markdown",
   "metadata": {
    "id": "DFISrv7TfHoG"
   },
   "source": [
    "**Execução do Modelo Matemático com o Solver SCIP**\n",
    "\n",
    "Depois de cuidadosamente construir e definir nosso modelo matemático, o próximo passo é encontrar a solução que melhor atenda aos nossos objetivos e restrições. Para fazer isso, empregamos o uso de um solver, e, neste caso, escolhemos o SCIP (Solving Constraint Integer Programs) como nosso executor confiável.\n",
    "\n",
    "O SCIP é uma ferramenta tem algoritmos implementados que buscam as variáveis de decisão que minimizam ou maximizam nossa função objetivo, respeitando as limitações e restrições previamente definidas no modelo. Com o SCIP, não estamos apenas “chutando” soluções; estamos conduzindo uma busca sistemática e robusta através de um universo de soluções possíveis para encontrar aquela que atenda da melhor forma possível às nossas necessidades."
   ]
  },
  {
   "cell_type": "code",
   "execution_count": 50,
   "metadata": {
    "executionInfo": {
     "elapsed": 34,
     "status": "ok",
     "timestamp": 1698162344239,
     "user": {
      "displayName": "Judecir Júnior",
      "userId": "05429191402490882278"
     },
     "user_tz": -60
    },
    "id": "LQRRlYXinXha"
   },
   "outputs": [],
   "source": [
    "# Resolvendo o modelo\n",
    "status = modelo.Solve()"
   ]
  },
  {
   "cell_type": "code",
   "execution_count": 51,
   "metadata": {
    "colab": {
     "base_uri": "https://localhost:8080/"
    },
    "executionInfo": {
     "elapsed": 33,
     "status": "ok",
     "timestamp": 1698162344239,
     "user": {
      "displayName": "Judecir Júnior",
      "userId": "05429191402490882278"
     },
     "user_tz": -60
    },
    "id": "kpEZl5Wbonrb",
    "outputId": "568f4686-c7eb-4613-99fe-3a11312bf748"
   },
   "outputs": [
    {
     "name": "stdout",
     "output_type": "stream",
     "text": [
      "Solução  Ótimo\n",
      "[(0, 0), (2, 1), (2, 2), (5, 3), (8, 3), (4, 4)]\n"
     ]
    }
   ],
   "source": [
    "# Inicializando a lista que vai guardar a melhor rota encontrada\n",
    "melhor_rota = []\n",
    "\n",
    "# Inicializando a distância percorrida com infinito, para que qualquer rota encontrada seja melhor\n",
    "distancia_percorrida = float('inf')\n",
    "\n",
    "# Um dicionário para traduzir o status da solução\n",
    "status_descricao = {pywraplp.Solver.OPTIMAL: 'Ótimo', pywraplp.Solver.FEASIBLE: 'Viável'}\n",
    "\n",
    "# Verifica se o status da solução é ótimo ou viável\n",
    "if status == pywraplp.Solver.OPTIMAL or status == pywraplp.Solver.FEASIBLE:\n",
    "\n",
    "    # Imprime o status da solução\n",
    "    print(\"Solução \", status_descricao[status])\n",
    "\n",
    "    # Obtém o valor da função objetivo da solução encontrada, que é a distância total percorrida\n",
    "    distancia_percorrida = modelo.Objective().Value()\n",
    "\n",
    "    # Cria uma lista para armazenar a ordem dos locais na melhor rota\n",
    "    melhor_rota = [0]*n\n",
    "\n",
    "    # Para cada nó no grafo\n",
    "    for i in G.nodes():\n",
    "\n",
    "        # Obtém o valor da variável de decisão correspondente à ordem de visita\n",
    "        indice = round(u[i].solution_value())-1\n",
    "\n",
    "        # Atribui o local à posição correspondente na lista da melhor rota\n",
    "        melhor_rota[indice] = G.nodes[i][\"local\"]\n",
    "\n",
    "# Imprime a melhor rota encontrada\n",
    "print(melhor_rota)\n"
   ]
  },
  {
   "cell_type": "code",
   "execution_count": 52,
   "metadata": {
    "colab": {
     "base_uri": "https://localhost:8080/",
     "height": 0
    },
    "executionInfo": {
     "elapsed": 389,
     "status": "ok",
     "timestamp": 1698162344596,
     "user": {
      "displayName": "Judecir Júnior",
      "userId": "05429191402490882278"
     },
     "user_tz": -60
    },
    "id": "issaJ98LWyRs",
    "outputId": "bbe6b7b4-00a2-4155-aa75-53c96f449466"
   },
   "outputs": [
    {
     "data": {
      "image/png": "[encoded data removed]",
      "text/plain": [
       "<Figure size 640x480 with 1 Axes>"
      ]
     },
     "metadata": {},
     "output_type": "display_data"
    }
   ],
   "source": [
    "desenhar_rota(melhor_rota)"
   ]
  },
  {
   "cell_type": "markdown",
   "metadata": {
    "id": "zRsiCcog1kRF"
   },
   "source": [
    "# 5 - Combinação de métodos e detalhes solução"
   ]
  },
  {
   "cell_type": "markdown",
   "metadata": {
    "id": "hEHcIaVD1lm9"
   },
   "source": [
    "## 5.1 Avaliando o modelo matemático"
   ]
  },
  {
   "cell_type": "code",
   "execution_count": 53,
   "metadata": {
    "executionInfo": {
     "elapsed": 9,
     "status": "ok",
     "timestamp": 1698162344597,
     "user": {
      "displayName": "Judecir Júnior",
      "userId": "05429191402490882278"
     },
     "user_tz": -60
    },
    "id": "DDyv6GHuW90k"
   },
   "outputs": [],
   "source": [
    "def modelo_matematico(origem, destino, enderecos):\n",
    "\n",
    "  # Criação do grafo com nós e arestas representando os endereços e as rotas possíveis\n",
    "  G = criar_grafo(origem, destino, enderecos)\n",
    "\n",
    "  # Determinando o número de nós no grafo\n",
    "  n = G.number_of_nodes()\n",
    "\n",
    "  # Inicializando o solver SCIP\n",
    "  modelo = pywraplp.Solver.CreateSolver(\"SCIP\")\n",
    "\n",
    "  # Definindo o limite de tempo para a execução do solver\n",
    "  modelo.SetTimeLimit(60*1000)\n",
    "\n",
    "  # Inicialização das variáveis de decisão\n",
    "  x = {}\n",
    "  for i,j in G.edges():\n",
    "    x[(i,j)] = modelo.BoolVar(name=f\"x[{i,j}]\")\n",
    "\n",
    "  u = {}\n",
    "  for i in G.nodes():\n",
    "    u[i] = modelo.NumVar(lb=1.0, ub=n, name=f\"u[{i}]\")\n",
    "\n",
    "  # Definição da função objetivo\n",
    "  modelo.Minimize(sum(G.get_edge_data(i,j)['weight']*x[i,j] for i,j in G.edges()))\n",
    "\n",
    "  # Adicionando as restrições ao modelo\n",
    "  for i in G.nodes():\n",
    "    if i!='destino':\n",
    "      modelo.Add(sum(x[i,j] for j in G.successors(i)) == 1)\n",
    "\n",
    "    if i!='origem':\n",
    "      modelo.Add(sum(x[j,i] for j in G.predecessors(i)) == 1)\n",
    "\n",
    "  # Restrição para evitar sub-rotas\n",
    "  for i,j in G.edges():\n",
    "    modelo.Add(u[i] - u[j] + n*x[i,j] <= n -1)\n",
    "\n",
    "  # Resolvendo o modelo\n",
    "  status = modelo.Solve()\n",
    "\n",
    "  # Inicializando variáveis para armazenar os resultados\n",
    "  melhor_rota = []\n",
    "  distancia_percorrida = float('inf')\n",
    "\n",
    "  # Mapeamento de status de solução\n",
    "  status_descricao = {pywraplp.Solver.OPTIMAL: 'Ótima', pywraplp.Solver.FEASIBLE:'Viável'}\n",
    "\n",
    "  # Extraindo e formatando os resultados após a solução do modelo\n",
    "  if status == pywraplp.Solver.OPTIMAL or status == pywraplp.Solver.FEASIBLE:\n",
    "    print(\"Solução \", status_descricao[status])\n",
    "    distancia_percorrida = modelo.Objective().Value()\n",
    "\n",
    "    # Determinando a melhor rota baseada nas variáveis de decisão solucionadas\n",
    "    melhor_rota = [0]*n\n",
    "    for i in G.nodes():\n",
    "      indice = round(u[i].solution_value())-1\n",
    "      melhor_rota[indice] = G.nodes[i][\"local\"]\n",
    "\n",
    "  # Retornando a melhor rota e a distância percorrida\n",
    "  return melhor_rota, distancia_percorrida\n"
   ]
  },
  {
   "cell_type": "code",
   "execution_count": 54,
   "metadata": {
    "executionInfo": {
     "elapsed": 8,
     "status": "ok",
     "timestamp": 1698162344597,
     "user": {
      "displayName": "Judecir Júnior",
      "userId": "05429191402490882278"
     },
     "user_tz": -60
    },
    "id": "cYbwPmkEX46G"
   },
   "outputs": [],
   "source": [
    "origem = (0,0)\n",
    "destino = (4,4)\n",
    "\n",
    "enderecos = [(2,2), (2, 1), (5, 3), (8, 3), (10, 5), (9, 4), (8, 7), (6, 3), (9, 6), (7, 5), (9, 1), (11, 10), (3, 6), (10, 10)]"
   ]
  },
  {
   "cell_type": "code",
   "execution_count": 55,
   "metadata": {
    "colab": {
     "base_uri": "https://localhost:8080/",
     "height": 0
    },
    "executionInfo": {
     "elapsed": 1499,
     "status": "ok",
     "timestamp": 1698162346088,
     "user": {
      "displayName": "Judecir Júnior",
      "userId": "05429191402490882278"
     },
     "user_tz": -60
    },
    "id": "IwjgOtuWYJbF",
    "outputId": "113dfdcf-bd8e-42e4-80a2-cd36f07bf488"
   },
   "outputs": [
    {
     "name": "stdout",
     "output_type": "stream",
     "text": [
      "Solução  Ótima\n"
     ]
    },
    {
     "data": {
      "image/png": "[encoded data removed]",
      "text/plain": [
       "<Figure size 640x480 with 1 Axes>"
      ]
     },
     "metadata": {},
     "output_type": "display_data"
    }
   ],
   "source": [
    "melhor_rota, distancia_percorrida = modelo_matematico(origem, destino, enderecos)\n",
    "\n",
    "desenhar_rota(melhor_rota)"
   ]
  },
  {
   "cell_type": "markdown",
   "metadata": {
    "id": "yAcK6KVm1szz"
   },
   "source": [
    "## 5.2 - Combinando heurística e o modelo matemático"
   ]
  },
  {
   "cell_type": "code",
   "execution_count": 56,
   "metadata": {
    "executionInfo": {
     "elapsed": 15,
     "status": "ok",
     "timestamp": 1698162346090,
     "user": {
      "displayName": "Judecir Júnior",
      "userId": "05429191402490882278"
     },
     "user_tz": -60
    },
    "id": "gNfIsNnVb1r5"
   },
   "outputs": [],
   "source": [
    "def modelo_matematico_com_heuristica(origem, destino, enderecos):\n",
    "\n",
    "  # Criando um grafo baseado nos endereços fornecidos\n",
    "  G = criar_grafo(origem, destino, enderecos)\n",
    "  n = G.number_of_nodes()\n",
    "\n",
    "  # Obtendo uma rota inicial e sua distância usando uma heurística do vizinho mais próximo\n",
    "  rota_heuristica, distancia_heuristica = vizinho_mais_proximo(origem, destino, enderecos)\n",
    "\n",
    "  # Inicializando o solver SCIP com um limite de tempo\n",
    "  modelo = pywraplp.Solver.CreateSolver(\"SCIP\")\n",
    "  modelo.SetTimeLimit(2*60*1000)\n",
    "\n",
    "  # Variáveis de decisão\n",
    "  x = {}\n",
    "  for i,j in G.edges():\n",
    "    x[(i,j)] = modelo.BoolVar(name=f\"x[{i,j}]\")\n",
    "\n",
    "  u = {}\n",
    "  for i in G.nodes():\n",
    "    u[i] = modelo.NumVar(lb=1.0, ub=n, name=f\"u[{i}]\")\n",
    "\n",
    "  # Função objetivo\n",
    "  expr_distancia = sum(G.get_edge_data(i,j)['weight']*x[i,j] for i,j in G.edges())\n",
    "  modelo.Minimize(expr_distancia)\n",
    "\n",
    "  # Restrições\n",
    "  # A restrição garante que a solução do modelo não seja pior que a solução heurística inicial\n",
    "  modelo.Add(expr_distancia <= distancia_heuristica)\n",
    "\n",
    "  # Adicionando restrições que garantem que cada nó seja visitado uma vez\n",
    "  for i in G.nodes():\n",
    "    if i!='destino':\n",
    "      modelo.Add(sum(x[i,j] for j in G.successors(i)) == 1)\n",
    "\n",
    "    if i!='origem':\n",
    "      modelo.Add(sum(x[j,i] for j in G.predecessors(i)) == 1)\n",
    "\n",
    "  # Adicionando restrições para evitar sub-rotas\n",
    "  for i,j in G.edges():\n",
    "    modelo.Add(u[i] - u[j] + n*x[i,j] <= n -1)\n",
    "\n",
    "  # Resolvendo o modelo\n",
    "  status = modelo.Solve()\n",
    "\n",
    "  # Formatação dos resultados\n",
    "  # Inicializando com a rota e distância da heurística\n",
    "  melhor_rota = rota_heuristica\n",
    "  distancia_percorrida = distancia_heuristica\n",
    "\n",
    "  # Mapeamento do status da solução\n",
    "  status_descricao = {pywraplp.Solver.OPTIMAL: 'Ótima', pywraplp.Solver.FEASIBLE:'Viável'}\n",
    "\n",
    "  # Atualizando a rota e a distância se uma solução ótima ou viável for encontrada\n",
    "  if status == pywraplp.Solver.OPTIMAL or status == pywraplp.Solver.FEASIBLE:\n",
    "    print(\"Solução \", status_descricao[status])\n",
    "    distancia_percorrida = modelo.Objective().Value()\n",
    "\n",
    "    # Construindo a melhor rota com base nas variáveis de decisão\n",
    "    melhor_rota = [0]*n\n",
    "    for i in G.nodes():\n",
    "      indice = round(u[i].solution_value())-1\n",
    "      melhor_rota[indice] = G.nodes[i][\"local\"]\n",
    "\n",
    "  # Retornando a melhor rota encontrada e a distância correspondente\n",
    "  return melhor_rota, distancia_percorrida\n"
   ]
  },
  {
   "cell_type": "code",
   "execution_count": 57,
   "metadata": {
    "colab": {
     "base_uri": "https://localhost:8080/"
    },
    "executionInfo": {
     "elapsed": 14,
     "status": "ok",
     "timestamp": 1698162346090,
     "user": {
      "displayName": "Judecir Júnior",
      "userId": "05429191402490882278"
     },
     "user_tz": -60
    },
    "id": "Dyx_3bTajD8O",
    "outputId": "a603357f-0a00-4108-c10c-8282cdba46cf"
   },
   "outputs": [
    {
     "name": "stdout",
     "output_type": "stream",
     "text": [
      "[(92, 65), (29, 90), (83, 81), (84, 99), (23, 55), (17, 83), (65, 16), (47, 50), (97, 0), (89, 38), (93, 23), (25, 85), (73, 96), (89, 4), (28, 87), (82, 56), (59, 7), (81, 76), (99, 90), (3, 71), (13, 96), (97, 47), (5, 72), (38, 26), (11, 29), (78, 21), (32, 56), (29, 79), (45, 78), (78, 56)]\n"
     ]
    }
   ],
   "source": [
    "origem = (0,0)\n",
    "destino = (4,4)\n",
    "\n",
    "import random\n",
    "\n",
    "enderecos = [(random.randint(0,100), random.randint(0,100)) for i in range(30)]\n",
    "print(enderecos)"
   ]
  },
  {
   "cell_type": "code",
   "execution_count": 58,
   "metadata": {
    "colab": {
     "base_uri": "https://localhost:8080/"
    },
    "executionInfo": {
     "elapsed": 120548,
     "status": "ok",
     "timestamp": 1698162466627,
     "user": {
      "displayName": "Judecir Júnior",
      "userId": "05429191402490882278"
     },
     "user_tz": -60
    },
    "id": "NU3FAg7LjbgN",
    "outputId": "a07bd751-3763-49d2-b4eb-1da1ea7e8a4f"
   },
   "outputs": [
    {
     "name": "stdout",
     "output_type": "stream",
     "text": [
      "Solução  Viável\n",
      "512.676639217664\n"
     ]
    }
   ],
   "source": [
    "menor_rota, distancia_percorrida = modelo_matematico_com_heuristica(origem, destino, enderecos)\n",
    "print(distancia_percorrida)"
   ]
  },
  {
   "cell_type": "code",
   "execution_count": 59,
   "metadata": {
    "colab": {
     "base_uri": "https://localhost:8080/"
    },
    "executionInfo": {
     "elapsed": 15,
     "status": "ok",
     "timestamp": 1698162466627,
     "user": {
      "displayName": "Judecir Júnior",
      "userId": "05429191402490882278"
     },
     "user_tz": -60
    },
    "id": "lef6h5c4jpGD",
    "outputId": "0d2696a8-2454-42c5-dd93-1be46d4a3423"
   },
   "outputs": [
    {
     "name": "stdout",
     "output_type": "stream",
     "text": [
      "[(0, 0), (59, 7), (65, 16), (78, 21), (89, 4), (97, 0), (93, 23), (89, 38), (97, 47), (82, 56), (78, 56), (92, 65), (81, 76), (83, 81), (99, 90), (84, 99), (73, 96), (45, 78), (29, 79), (25, 85), (28, 87), (29, 90), (13, 96), (17, 83), (5, 72), (3, 71), (23, 55), (32, 56), (47, 50), (38, 26), (11, 29), (4, 4)]\n"
     ]
    }
   ],
   "source": [
    "print(menor_rota)"
   ]
  },
  {
   "cell_type": "markdown",
   "metadata": {
    "id": "Q7Isv3ZX10r8"
   },
   "source": [
    "## 5.3 - Avaliando soluções viáveis"
   ]
  },
  {
   "cell_type": "markdown",
   "metadata": {
    "id": "3w8jV84KlqV_"
   },
   "source": [
    "Nós frequentemente utilizamos várias métricas para avaliar a performance e a qualidade das soluções geradas por algoritmos de otimização, e uma dessas métricas essenciais é o **gap de otimização MILP (Mixed Integer Linear Programming)**. Essa métrica nos ajuda a entender o quão próxima está a solução encontrada do valor ótimo real ou do melhor valor conhecido.\n",
    "\n",
    "**Calculando o Gap MILP**\n",
    "\n",
    "A fórmula para calcular o gap MILP é a seguinte:\n",
    "\n",
    "\\[ \\text{gap} = \\frac{|resultado - melhor\\_bound|}{|resultado|} \\]\n",
    "\n",
    "- **resultado**: Refere-se ao valor da função objetivo da melhor solução inteira encontrada até o momento.\n",
    "- **melhor_bound**: É o melhor valor estimado da função objetivo, que pode ser obtido relaxando as restrições de integralidade do problema.\n",
    "\n",
    "**Entendendo o Conceito**\n",
    "\n",
    "O gap MILP essencialmente mede a diferença entre o melhor valor encontrado e uma estimativa do valor ótimo, normalizada pelo valor encontrado. A ideia por trás do cálculo é ter uma medida relativa da qualidade da solução, em vez de uma diferença absoluta. Isso torna o gap MILP uma métrica valiosa, permitindo-nos comparar a qualidade das soluções entre diferentes instâncias de problemas e diferentes métodos de solução.\n",
    "\n",
    "Um gap MILP menor indica que a solução encontrada está mais próxima do valor ótimo, enquanto um gap maior sugere que pode haver espaço significativo para melhorar a solução atual. Quando o gap MILP é zero, isso significa que encontramos uma solução que é provavelmente ótima (dentro de uma tolerância específica).\n",
    "\n",
    "Ao utilizar essa métrica, podemos ter uma visão mais clara do desempenho do nosso modelo ou algoritmo em termos de sua precisão e eficácia na resolução de problemas MILP, ajudando-nos a fazer ajustes e melhorias conforme necessário."
   ]
  },
  {
   "cell_type": "code",
   "execution_count": 60,
   "metadata": {
    "executionInfo": {
     "elapsed": 13,
     "status": "ok",
     "timestamp": 1698162466627,
     "user": {
      "displayName": "Judecir Júnior",
      "userId": "05429191402490882278"
     },
     "user_tz": -60
    },
    "id": "4luALXjzg2ce"
   },
   "outputs": [],
   "source": [
    "def modelo_matematico_com_heuristica(origem, destino, enderecos):\n",
    "  # Criando o grafo com base nos endereços fornecidos\n",
    "  G = criar_grafo(origem, destino, enderecos)\n",
    "  n = G.number_of_nodes()\n",
    "\n",
    "  # Obtendo uma rota heurística inicial e sua distância\n",
    "  rota_heuristica, distancia_heuristica = vizinho_mais_proximo(origem, destino, enderecos)\n",
    "\n",
    "  # Inicializando o solver SCIP\n",
    "  modelo = pywraplp.Solver.CreateSolver(\"SCIP\")\n",
    "  modelo.SetTimeLimit(2*60*1000)  # Limitando o tempo de solução para 2 minutos\n",
    "\n",
    "  # Definindo as variáveis de decisão\n",
    "  x = {}\n",
    "  for i,j in G.edges():\n",
    "    x[(i,j)] = modelo.BoolVar(name=f\"x[{i,j}]\")\n",
    "\n",
    "  u = {}\n",
    "  for i in G.nodes():\n",
    "    u[i] = modelo.NumVar(lb=1.0, ub=n, name=f\"u[{i}]\")\n",
    "\n",
    "  # Definindo a função objetivo\n",
    "  expr_distancia = sum(G.get_edge_data(i,j)['weight']*x[i,j] for i,j in G.edges())\n",
    "  modelo.Minimize(expr_distancia)\n",
    "\n",
    "  # Adicionando restrições ao modelo\n",
    "  modelo.Add(expr_distancia <= distancia_heuristica)  # Restrição da distância baseada na heurística\n",
    "\n",
    "  # Garantindo que cada vértice seja visitado uma vez\n",
    "  for i in G.nodes():\n",
    "    if i!='destino':\n",
    "      modelo.Add(sum(x[i,j] for j in G.successors(i)) == 1)\n",
    "\n",
    "    if i!='origem':\n",
    "      modelo.Add(sum(x[j,i] for j in G.predecessors(i)) == 1)\n",
    "\n",
    "  # Restrições para eliminar sub-rotas\n",
    "  for i,j in G.edges():\n",
    "    modelo.Add(u[i] - u[j] + n*x[i,j] <= n -1)\n",
    "\n",
    "  # Resolvendo o modelo\n",
    "  status = modelo.Solve()\n",
    "\n",
    "  # Processando e apresentando os resultados\n",
    "  melhor_rota = rota_heuristica\n",
    "  distancia_percorrida = distancia_heuristica\n",
    "\n",
    "  status_descricao = {pywraplp.Solver.OPTIMAL: 'Ótima', pywraplp.Solver.FEASIBLE:'Viável'}\n",
    "\n",
    "  if status == pywraplp.Solver.OPTIMAL or status == pywraplp.Solver.FEASIBLE:\n",
    "    print(\"Solução \", status_descricao[status])\n",
    "    distancia_percorrida = modelo.Objective().Value()  # Obtendo o valor da função objetivo\n",
    "    melhor_bound = modelo.Objective().BestBound()  # Obtendo o melhor bound\n",
    "\n",
    "    # Calculando o gap\n",
    "    gap = 100*abs(distancia_percorrida - melhor_bound)/distancia_percorrida\n",
    "    print(\"gap=\", gap)\n",
    "\n",
    "    # Construindo a melhor rota baseada nas variáveis de decisão\n",
    "    melhor_rota = [0]*n\n",
    "    for i in G.nodes():\n",
    "      indice = round(u[i].solution_value())-1\n",
    "      melhor_rota[indice] = G.nodes[i][\"local\"]\n",
    "\n",
    "  return melhor_rota, distancia_percorrida  # Retornando a melhor rota e a distância percorrida\n"
   ]
  },
  {
   "cell_type": "code",
   "execution_count": 61,
   "metadata": {
    "colab": {
     "base_uri": "https://localhost:8080/"
    },
    "executionInfo": {
     "elapsed": 120457,
     "status": "ok",
     "timestamp": 1698162587071,
     "user": {
      "displayName": "Judecir Júnior",
      "userId": "05429191402490882278"
     },
     "user_tz": -60
    },
    "id": "s86SNkVH2Ppy",
    "outputId": "f1524133-c9d0-4b0b-8478-ba6ac302f37c"
   },
   "outputs": [
    {
     "name": "stdout",
     "output_type": "stream",
     "text": [
      "Solução  Viável\n",
      "gap= 3.476220973168641\n",
      "512.676639217664\n"
     ]
    }
   ],
   "source": [
    "menor_rota, distancia_percorrida = modelo_matematico_com_heuristica(origem, destino, enderecos)\n",
    "print(distancia_percorrida)"
   ]
  },
  {
   "cell_type": "markdown",
   "metadata": {
    "id": "5w7imlUtVnyg"
   },
   "source": [
    "# Extra"
   ]
  },
  {
   "cell_type": "markdown",
   "metadata": {
    "id": "yfSVDE_RiOB7"
   },
   "source": [
    "Passar uma solução inicial para um modelo de otimização, como os utilizados pelo Google OR-Tools, pode ser uma maneira eficaz de acelerar o processo de solução e, muitas vezes, pode levar a soluções de melhor qualidade. A solução inicial funciona como ponto de partida para o solver, e pode ser particularmente útil quando se tem uma boa estimativa da solução ótima, que pode ser obtida por heurísticas ou outros métodos.\n",
    "\n",
    "O método `SetHint` do Google OR-Tools é usado para esse propósito. Ele permite que você passe valores específicos para as variáveis de decisão, dando ao solver um ponto de partida. Aqui está uma descrição passo a passo de como você pode fazer isso:\n",
    "\n",
    "### 1. **Obtendo uma Solução Heurística:**\n",
    "   - Primeiro, você precisa de uma solução heurística para o seu problema. Esta solução não precisa ser ótima, mas deve ser uma solução viável.\n",
    "   - Existem diferentes heurísticas que você pode usar, dependendo do seu problema específico. Uma heurística comum é a do \"vizinho mais próximo\", mas muitas outras também podem ser aplicadas.\n",
    "\n",
    "### 2. **Preparando a Solução Heurística:**\n",
    "   - Você deve formatar a solução heurística para que ela possa ser passada para o modelo. Isso geralmente envolve a criação de uma lista de variáveis e uma lista de valores correspondentes.\n",
    "   - Esses valores representam uma solução completa e viável para o problema.\n",
    "\n",
    "### 3. **Usando o Método `SetHint`:**\n",
    "   - O método `SetHint` é chamado no modelo de otimização, e as listas de variáveis e valores são passadas como argumentos.\n",
    "   - `modelo.SetHint(variaveis, valores)`, onde `variaveis` é uma lista de variáveis de decisão e `valores` é uma lista dos valores correspondentes que você quer definir para essas variáveis.\n",
    "\n",
    "### 4. **Resolvendo o Modelo:**\n",
    "   - Depois de passar a solução inicial, você pode resolver o modelo como faria normalmente.\n",
    "   - O solver usará a solução inicial fornecida como um ponto de partida, o que pode melhorar o tempo de solução e a qualidade da solução.\n",
    "\n",
    "Este método pode ser especialmente poderoso quando você tem uma heurística forte, e pode significativamente acelerar o processo de solução, melhorando a eficiência do solver e, muitas vezes, a qualidade da solução final."
   ]
  },
  {
   "cell_type": "code",
   "execution_count": 62,
   "metadata": {
    "executionInfo": {
     "elapsed": 22,
     "status": "ok",
     "timestamp": 1698162587072,
     "user": {
      "displayName": "Judecir Júnior",
      "userId": "05429191402490882278"
     },
     "user_tz": -60
    },
    "id": "rFhqBSCrVoed"
   },
   "outputs": [],
   "source": [
    "def modelo_matematico_com_heuristica(origem, destino, enderecos):\n",
    "    G = criar_grafo(origem, destino, enderecos)  # Criando o grafo\n",
    "    n = G.number_of_nodes()  # Obtendo o número de nós\n",
    "\n",
    "    # Obtendo uma rota inicial baseada na heurística do vizinho mais próximo\n",
    "    rota_heuristica, distancia_heuristica = vizinho_mais_proximo(origem, destino, enderecos)\n",
    "\n",
    "    # Criando o solver\n",
    "    modelo = pywraplp.Solver.CreateSolver(\"SCIP\")\n",
    "    modelo.SetTimeLimit(2*60*1000)  # Definindo o limite de tempo para resolver o problema\n",
    "\n",
    "    # Definindo as variáveis de decisão\n",
    "    x = {}\n",
    "    for i, j in G.edges():\n",
    "        x[(i, j)] = modelo.BoolVar(name=f\"x[{i},{j}]\")  # Variáveis binárias representando as arestas\n",
    "\n",
    "    u = {}\n",
    "    for i in G.nodes():\n",
    "        u[i] = modelo.NumVar(lb=1.0, ub=n, name=f\"u[{i}]\")  # Variáveis auxiliares para evitar subciclos\n",
    "\n",
    "    # Definindo a função objetivo: minimizar a distância total percorrida\n",
    "    expr_distancia = sum(G.get_edge_data(i, j)['weight'] * x[i, j] for i, j in G.edges())\n",
    "    modelo.Minimize(expr_distancia)\n",
    "\n",
    "    # Adicionando restrições de fluxo\n",
    "    for i in G.nodes():\n",
    "        if i != 'destino':\n",
    "            modelo.Add(sum(x[i, j] for j in G.successors(i)) == 1)  # Cada nó deve ser saído uma vez\n",
    "\n",
    "        if i != 'origem':\n",
    "            modelo.Add(sum(x[j, i] for j in G.predecessors(i)) == 1)  # Cada nó deve ser entrado uma vez\n",
    "\n",
    "    # Adicionando restrições para eliminar subciclos\n",
    "    for i, j in G.edges():\n",
    "        modelo.Add(u[i] - u[j] + n * x[i, j] <= n - 1)\n",
    "\n",
    "    # Inicializando as variáveis de decisão com a solução heurística\n",
    "    variaveis = []\n",
    "    valores = []\n",
    "    for i, j in G.edges():\n",
    "        indice_i = rota_heuristica.index(G.nodes[i][\"local\"])\n",
    "        indice_j = rota_heuristica.index(G.nodes[j][\"local\"])\n",
    "        valor = 0\n",
    "        if indice_i - indice_j == -1:  # Se os nós são consecutivos na rota heurística\n",
    "            valor = 1  # A variável correspondente é inicializada com 1\n",
    "\n",
    "        variaveis.append(x[i, j])\n",
    "        valores.append(valor)\n",
    "        modelo.SetHint(variaveis, valores)  # Definindo a solução inicial com a heurística\n",
    "\n",
    "    # Resolvendo o modelo\n",
    "    status = modelo.Solve()\n",
    "\n",
    "    # Processando e exibindo os resultados\n",
    "    melhor_rota = rota_heuristica\n",
    "    distancia_percorrida = distancia_heuristica\n",
    "\n",
    "    status_descricao = {pywraplp.Solver.OPTIMAL: 'Ótima', pywraplp.Solver.FEASIBLE: 'Viável'}\n",
    "\n",
    "    if status == pywraplp.Solver.OPTIMAL or status == pywraplp.Solver.FEASIBLE:\n",
    "        print(\"Solução \", status_descricao[status])\n",
    "        distancia_percorrida = modelo.Objective().Value()  # Obtendo o valor da solução ótima\n",
    "        melhor_bound = modelo.Objective().BestBound()  # Obtendo o melhor limitante inferior\n",
    "\n",
    "        # Calculando e exibindo o gap\n",
    "        gap = 100 * abs(distancia_percorrida - melhor_bound) / distancia_percorrida\n",
    "        print(\"gap=\", gap)\n",
    "\n",
    "        # Construindo a melhor rota com base na solução\n",
    "        melhor_rota = [0] * n\n",
    "        for i in G.nodes():\n",
    "            indice = round(u[i].solution_value()) - 1\n",
    "            melhor_rota[indice] = G.nodes[i][\"local\"]\n",
    "\n",
    "    return melhor_rota, distancia_percorrida  # Retornando a melhor rota e sua distância\n",
    "\n"
   ]
  },
  {
   "cell_type": "code",
   "execution_count": 63,
   "metadata": {
    "colab": {
     "base_uri": "https://localhost:8080/"
    },
    "executionInfo": {
     "elapsed": 120124,
     "status": "ok",
     "timestamp": 1698162707176,
     "user": {
      "displayName": "Judecir Júnior",
      "userId": "05429191402490882278"
     },
     "user_tz": -60
    },
    "id": "sHQ_2XlEXGDu",
    "outputId": "53e0568b-513b-4498-d4d3-539cfae274c0"
   },
   "outputs": [
    {
     "name": "stdout",
     "output_type": "stream",
     "text": [
      "Solução  Viável\n",
      "gap= 3.3892418757931098\n",
      "512.676639217664\n"
     ]
    }
   ],
   "source": [
    "menor_rota, distancia_percorrida = modelo_matematico_com_heuristica(origem, destino, enderecos)\n",
    "print(distancia_percorrida)"
   ]
  },
  {
   "cell_type": "code",
   "execution_count": 63,
   "metadata": {
    "executionInfo": {
     "elapsed": 18,
     "status": "ok",
     "timestamp": 1698162707177,
     "user": {
      "displayName": "Judecir Júnior",
      "userId": "05429191402490882278"
     },
     "user_tz": -60
    },
    "id": "routTP-tXLbt"
   },
   "outputs": [],
   "source": []
  },
  {
   "cell_type": "markdown",
   "metadata": {
    "id": "jv0swvyVi2NE"
   },
   "source": [
    "# Desafio"
   ]
  },
  {
   "cell_type": "code",
   "execution_count": 64,
   "metadata": {
    "executionInfo": {
     "elapsed": 16,
     "status": "ok",
     "timestamp": 1698162707177,
     "user": {
      "displayName": "Judecir Júnior",
      "userId": "05429191402490882278"
     },
     "user_tz": -60
    },
    "id": "oJ74seXli3gT"
   },
   "outputs": [],
   "source": [
    "# Aeroporto\n",
    "origem = (-3.778209341420737, -38.54067345827758)\n",
    "\n",
    "# Rodoviária para viajar para outra cidade\n",
    "destino = (-3.7562689807652148, -38.53069905284466)\n",
    "\n",
    "endereços = [\n",
    "    (-3.8070157671711327, -38.522390190229515), # Arena Castelão\n",
    "    (-3.8113368327863695, -38.47842114975064), # Casa José de Alencar\n",
    "    (-3.7228590971235214, -38.48725123255914), # Beira Mar\n",
    "    (-3.7449881733005617, -38.48548492241305), # Parque do Cocó\n",
    "    (-3.8060995079703828, -38.41032316574923), # Praia da Sabiaguaba\n",
    "    (-3.7201132634671494, -38.52451664298032), # Mercado Central\n",
    "    (-3.7171479354666146, -38.51025303928503), # Praia de Iracema\n",
    "    (-3.7204016008787417, -38.5072937087797), # Aterro da Praia de Iracema\n",
    "    (-3.7186886031095905, -38.50986862934191), # Estátua de Iracema Guardiã\n",
    "    (-3.7333186993953613, -38.489534749043244), # Museu da fotografia\n",
    "]"
   ]
  },
  {
   "cell_type": "code",
   "execution_count": 65,
   "metadata": {
    "executionInfo": {
     "elapsed": 1397,
     "status": "ok",
     "timestamp": 1698162708559,
     "user": {
      "displayName": "Judecir Júnior",
      "userId": "05429191402490882278"
     },
     "user_tz": -60
    },
    "id": "nRKzl-v-knlW"
   },
   "outputs": [],
   "source": [
    "import folium\n",
    "\n",
    "# Aeroporto\n",
    "origem = (-3.778209341420737, -38.54067345827758)\n",
    "\n",
    "# Rodoviária para viajar para outra cidade\n",
    "destino = (-3.7562689807652148, -38.53069905284466)\n",
    "\n",
    "enderecos = [\n",
    "    (-3.8070157671711327, -38.522390190229515), # Arena Castelão\n",
    "    (-3.8113368327863695, -38.47842114975064), # Casa José de Alencar\n",
    "    (-3.7228590971235214, -38.48725123255914), # Beira Mar\n",
    "    (-3.7449881733005617, -38.48548492241305), # Parque do Cocó\n",
    "    (-3.8060995079703828, -38.41032316574923), # Praia da Sabiaguaba\n",
    "    (-3.7201132634671494, -38.52451664298032), # Mercado Central\n",
    "    (-3.7171479354666146, -38.51025303928503), # Praia de Iracema\n",
    "    (-3.7204016008787417, -38.5072937087797), # Aterro da Praia de Iracema\n",
    "    (-3.7186886031095905, -38.50986862934191), # Estátua de Iracema Guardiã\n",
    "    (-3.7333186993953613, -38.489534749043244), # Museu da fotografia\n",
    "]\n",
    "\n"
   ]
  },
  {
   "cell_type": "code",
   "execution_count": 66,
   "metadata": {
    "executionInfo": {
     "elapsed": 16,
     "status": "ok",
     "timestamp": 1698162708560,
     "user": {
      "displayName": "Judecir Júnior",
      "userId": "05429191402490882278"
     },
     "user_tz": -60
    },
    "id": "JXSqnt5-kqoQ"
   },
   "outputs": [],
   "source": [
    "\n",
    "# Criando um mapa centrado na média das coordenadas\n",
    "mapa = folium.Map(location=[sum([x[0] for x in [origem, destino] + enderecos]) / (2 + len(enderecos)),\n",
    "                           sum([x[1] for x in [origem, destino] + enderecos]) / (2 + len(enderecos))],\n",
    "                  zoom_start=13)\n",
    "\n",
    "# Adicionando pontos ao mapa\n",
    "folium.Marker(location=origem, popup='Aeroporto', icon=folium.Icon(color='blue')).add_to(mapa)\n",
    "folium.Marker(location=destino, popup='Rodoviária', icon=folium.Icon(color='green')).add_to(mapa)\n",
    "\n",
    "for i, endereco in enumerate(enderecos, start=1):\n",
    "    folium.Marker(location=endereco, popup=f'Ponto {i}', icon=folium.Icon(color='red')).add_to(mapa)\n",
    "\n",
    "# Salvando o mapa em um arquivo HTML\n",
    "# mapa.save('mapa.html')\n",
    "\n",
    "# mapa"
   ]
  },
  {
   "cell_type": "code",
   "execution_count": 67,
   "metadata": {
    "colab": {
     "base_uri": "https://localhost:8080/"
    },
    "executionInfo": {
     "elapsed": 15,
     "status": "ok",
     "timestamp": 1698162708560,
     "user": {
      "displayName": "Judecir Júnior",
      "userId": "05429191402490882278"
     },
     "user_tz": -60
    },
    "id": "y0gVnsjilMJq",
    "outputId": "aa21dbf7-f0d3-405f-8243-d960a5b82901"
   },
   "outputs": [
    {
     "name": "stdout",
     "output_type": "stream",
     "text": [
      "Solução  Ótima\n",
      "gap= 0.0\n",
      "0.34264954255525987\n"
     ]
    }
   ],
   "source": [
    "menor_rota, distancia_percorrida = modelo_matematico_com_heuristica(origem, destino, enderecos)\n",
    "print(distancia_percorrida)"
   ]
  },
  {
   "cell_type": "code",
   "execution_count": 68,
   "metadata": {
    "executionInfo": {
     "elapsed": 12,
     "status": "ok",
     "timestamp": 1698162708560,
     "user": {
      "displayName": "Judecir Júnior",
      "userId": "05429191402490882278"
     },
     "user_tz": -60
    },
    "id": "VlW6IuxElZJU"
   },
   "outputs": [],
   "source": [
    "def desenhar_caminho(mapa, rota, cores=['blue', 'green', 'red']):\n",
    "    \"\"\"\n",
    "    Desenha um caminho no mapa baseado na rota fornecida.\n",
    "\n",
    "    :param mapa: Objeto mapa onde o caminho será desenhado.\n",
    "    :param rota: Lista de coordenadas (latitude, longitude) representando a rota.\n",
    "    :param cores: Lista de cores para os marcadores; o default inclui azul, verde e vermelho.\n",
    "    \"\"\"\n",
    "    # Adicionando pontos ao mapa\n",
    "    for i, coord in enumerate(rota):\n",
    "        cor = cores[i % len(cores)]  # Escolhe uma cor da lista, repetindo se necessário\n",
    "        folium.Marker(location=coord, icon=folium.Icon(color=cor)).add_to(mapa)\n",
    "\n",
    "    # Adicionando linhas entre os pontos\n",
    "    folium.PolyLine(rota, color=\"blue\", weight=2.5, opacity=1).add_to(mapa)\n",
    "\n"
   ]
  },
  {
   "cell_type": "code",
   "execution_count": 69,
   "metadata": {
    "executionInfo": {
     "elapsed": 12,
     "status": "ok",
     "timestamp": 1698162708561,
     "user": {
      "displayName": "Judecir Júnior",
      "userId": "05429191402490882278"
     },
     "user_tz": -60
    },
    "id": "fA4cWr1-lZC6"
   },
   "outputs": [],
   "source": [
    "\n",
    "# Exemplo de uso\n",
    "mapa = folium.Map(location=list(origem), zoom_start=13)\n",
    "\n",
    "desenhar_caminho(mapa, menor_rota)\n"
   ]
  },
  {
   "cell_type": "code",
   "execution_count": 70,
   "metadata": {
    "colab": {
     "base_uri": "https://localhost:8080/",
     "height": 1000
    },
    "executionInfo": {
     "elapsed": 11,
     "status": "ok",
     "timestamp": 1698162708561,
     "user": {
      "displayName": "Judecir Júnior",
      "userId": "05429191402490882278"
     },
     "user_tz": -60
    },
    "id": "YPiQ1zHFlVAs",
    "outputId": "691f6f28-ef20-467f-d163-fc0a8f4ba954"
   },
   "outputs": [
    {
     "data": {
      "text/html": [
       "<div style=\"width:100%;\"><div style=\"position:relative;width:100%;height:0;padding-bottom:60%;\"><span style=\"color:#565656\">Make this Notebook Trusted to load map: File -> Trust Notebook</span><iframe srcdoc=\"&lt;!DOCTYPE html&gt;\n",
       "&lt;html&gt;\n",
       "&lt;head&gt;\n",
       "    \n",
       "    &lt;meta http-equiv=&quot;content-type&quot; content=&quot;text/html; charset=UTF-8&quot; /&gt;\n",
       "    \n",
       "        &lt;script&gt;\n",
       "            L_NO_TOUCH = false;\n",
       "            L_DISABLE_3D = false;\n",
       "        &lt;/script&gt;\n",
       "    \n",
       "    &lt;style&gt;html, body {width: 100%;height: 100%;margin: 0;padding: 0;}&lt;/style&gt;\n",
       "    &lt;style&gt;#map {position:absolute;top:0;bottom:0;right:0;left:0;}&lt;/style&gt;\n",
       "    &lt;script src=&quot;https://cdn.jsdelivr.net/npm/leaflet@1.9.3/dist/leaflet.js&quot;&gt;&lt;/script&gt;\n",
       "    &lt;script src=&quot;https://code.jquery.com/jquery-1.12.4.min.js&quot;&gt;&lt;/script&gt;\n",
       "    &lt;script src=&quot;https://cdn.jsdelivr.net/npm/bootstrap@5.2.2/dist/js/bootstrap.bundle.min.js&quot;&gt;&lt;/script&gt;\n",
       "    &lt;script src=&quot;https://cdnjs.cloudflare.com/ajax/libs/Leaflet.awesome-markers/2.0.2/leaflet.awesome-markers.js&quot;&gt;&lt;/script&gt;\n",
       "    &lt;link rel=&quot;stylesheet&quot; href=&quot;https://cdn.jsdelivr.net/npm/leaflet@1.9.3/dist/leaflet.css&quot;/&gt;\n",
       "    &lt;link rel=&quot;stylesheet&quot; href=&quot;https://cdn.jsdelivr.net/npm/bootstrap@5.2.2/dist/css/bootstrap.min.css&quot;/&gt;\n",
       "    &lt;link rel=&quot;stylesheet&quot; href=&quot;https://netdna.bootstrapcdn.com/bootstrap/3.0.0/css/bootstrap.min.css&quot;/&gt;\n",
       "    &lt;link rel=&quot;stylesheet&quot; href=&quot;https://cdn.jsdelivr.net/npm/@fortawesome/fontawesome-free@6.2.0/css/all.min.css&quot;/&gt;\n",
       "    &lt;link rel=&quot;stylesheet&quot; href=&quot;https://cdnjs.cloudflare.com/ajax/libs/Leaflet.awesome-markers/2.0.2/leaflet.awesome-markers.css&quot;/&gt;\n",
       "    &lt;link rel=&quot;stylesheet&quot; href=&quot;https://cdn.jsdelivr.net/gh/python-visualization/folium/folium/templates/leaflet.awesome.rotate.min.css&quot;/&gt;\n",
       "    \n",
       "            &lt;meta name=&quot;viewport&quot; content=&quot;width=device-width,\n",
       "                initial-scale=1.0, maximum-scale=1.0, user-scalable=no&quot; /&gt;\n",
       "            &lt;style&gt;\n",
       "                #map_57d46dc1f3a48402e3fdc60522861f7a {\n",
       "                    position: relative;\n",
       "                    width: 100.0%;\n",
       "                    height: 100.0%;\n",
       "                    left: 0.0%;\n",
       "                    top: 0.0%;\n",
       "                }\n",
       "                .leaflet-container { font-size: 1rem; }\n",
       "            &lt;/style&gt;\n",
       "        \n",
       "&lt;/head&gt;\n",
       "&lt;body&gt;\n",
       "    \n",
       "    \n",
       "            &lt;div class=&quot;folium-map&quot; id=&quot;map_57d46dc1f3a48402e3fdc60522861f7a&quot; &gt;&lt;/div&gt;\n",
       "        \n",
       "&lt;/body&gt;\n",
       "&lt;script&gt;\n",
       "    \n",
       "    \n",
       "            var map_57d46dc1f3a48402e3fdc60522861f7a = L.map(\n",
       "                &quot;map_57d46dc1f3a48402e3fdc60522861f7a&quot;,\n",
       "                {\n",
       "                    center: [-3.778209341420737, -38.54067345827758],\n",
       "                    crs: L.CRS.EPSG3857,\n",
       "                    zoom: 13,\n",
       "                    zoomControl: true,\n",
       "                    preferCanvas: false,\n",
       "                }\n",
       "            );\n",
       "\n",
       "            \n",
       "\n",
       "        \n",
       "    \n",
       "            var tile_layer_b497270e48afb311d1fcd26c18b6d96f = L.tileLayer(\n",
       "                &quot;https://{s}.tile.openstreetmap.org/{z}/{x}/{y}.png&quot;,\n",
       "                {&quot;attribution&quot;: &quot;Data by \\u0026copy; \\u003ca target=\\&quot;_blank\\&quot; href=\\&quot;http://openstreetmap.org\\&quot;\\u003eOpenStreetMap\\u003c/a\\u003e, under \\u003ca target=\\&quot;_blank\\&quot; href=\\&quot;http://www.openstreetmap.org/copyright\\&quot;\\u003eODbL\\u003c/a\\u003e.&quot;, &quot;detectRetina&quot;: false, &quot;maxNativeZoom&quot;: 18, &quot;maxZoom&quot;: 18, &quot;minZoom&quot;: 0, &quot;noWrap&quot;: false, &quot;opacity&quot;: 1, &quot;subdomains&quot;: &quot;abc&quot;, &quot;tms&quot;: false}\n",
       "            ).addTo(map_57d46dc1f3a48402e3fdc60522861f7a);\n",
       "        \n",
       "    \n",
       "            var marker_12b7096dac033dbf5d65d6dae83a6771 = L.marker(\n",
       "                [-3.778209341420737, -38.54067345827758],\n",
       "                {}\n",
       "            ).addTo(map_57d46dc1f3a48402e3fdc60522861f7a);\n",
       "        \n",
       "    \n",
       "            var icon_b2e03e9d86bd57e555d6526df9943a1b = L.AwesomeMarkers.icon(\n",
       "                {&quot;extraClasses&quot;: &quot;fa-rotate-0&quot;, &quot;icon&quot;: &quot;info-sign&quot;, &quot;iconColor&quot;: &quot;white&quot;, &quot;markerColor&quot;: &quot;blue&quot;, &quot;prefix&quot;: &quot;glyphicon&quot;}\n",
       "            );\n",
       "            marker_12b7096dac033dbf5d65d6dae83a6771.setIcon(icon_b2e03e9d86bd57e555d6526df9943a1b);\n",
       "        \n",
       "    \n",
       "            var marker_103d34739cc7b8e534c0076473113ceb = L.marker(\n",
       "                [-3.8070157671711327, -38.522390190229515],\n",
       "                {}\n",
       "            ).addTo(map_57d46dc1f3a48402e3fdc60522861f7a);\n",
       "        \n",
       "    \n",
       "            var icon_533ca3431cb6726997accc38ed491b1d = L.AwesomeMarkers.icon(\n",
       "                {&quot;extraClasses&quot;: &quot;fa-rotate-0&quot;, &quot;icon&quot;: &quot;info-sign&quot;, &quot;iconColor&quot;: &quot;white&quot;, &quot;markerColor&quot;: &quot;green&quot;, &quot;prefix&quot;: &quot;glyphicon&quot;}\n",
       "            );\n",
       "            marker_103d34739cc7b8e534c0076473113ceb.setIcon(icon_533ca3431cb6726997accc38ed491b1d);\n",
       "        \n",
       "    \n",
       "            var marker_d1d120e7d3793071ae7c5d8dd12b505a = L.marker(\n",
       "                [-3.8113368327863695, -38.47842114975064],\n",
       "                {}\n",
       "            ).addTo(map_57d46dc1f3a48402e3fdc60522861f7a);\n",
       "        \n",
       "    \n",
       "            var icon_76282ed40747de8686cb3b86c0763350 = L.AwesomeMarkers.icon(\n",
       "                {&quot;extraClasses&quot;: &quot;fa-rotate-0&quot;, &quot;icon&quot;: &quot;info-sign&quot;, &quot;iconColor&quot;: &quot;white&quot;, &quot;markerColor&quot;: &quot;red&quot;, &quot;prefix&quot;: &quot;glyphicon&quot;}\n",
       "            );\n",
       "            marker_d1d120e7d3793071ae7c5d8dd12b505a.setIcon(icon_76282ed40747de8686cb3b86c0763350);\n",
       "        \n",
       "    \n",
       "            var marker_d75c5da636f1e783852d0bbe68afafee = L.marker(\n",
       "                [-3.8060995079703828, -38.41032316574923],\n",
       "                {}\n",
       "            ).addTo(map_57d46dc1f3a48402e3fdc60522861f7a);\n",
       "        \n",
       "    \n",
       "            var icon_c01b7843639ecebc44dc35fca2cc7417 = L.AwesomeMarkers.icon(\n",
       "                {&quot;extraClasses&quot;: &quot;fa-rotate-0&quot;, &quot;icon&quot;: &quot;info-sign&quot;, &quot;iconColor&quot;: &quot;white&quot;, &quot;markerColor&quot;: &quot;blue&quot;, &quot;prefix&quot;: &quot;glyphicon&quot;}\n",
       "            );\n",
       "            marker_d75c5da636f1e783852d0bbe68afafee.setIcon(icon_c01b7843639ecebc44dc35fca2cc7417);\n",
       "        \n",
       "    \n",
       "            var marker_aa445cb02d2fcf2b4f6ce4a0512589c5 = L.marker(\n",
       "                [-3.7449881733005617, -38.48548492241305],\n",
       "                {}\n",
       "            ).addTo(map_57d46dc1f3a48402e3fdc60522861f7a);\n",
       "        \n",
       "    \n",
       "            var icon_545747b477fab985602d4a39aca3c48e = L.AwesomeMarkers.icon(\n",
       "                {&quot;extraClasses&quot;: &quot;fa-rotate-0&quot;, &quot;icon&quot;: &quot;info-sign&quot;, &quot;iconColor&quot;: &quot;white&quot;, &quot;markerColor&quot;: &quot;green&quot;, &quot;prefix&quot;: &quot;glyphicon&quot;}\n",
       "            );\n",
       "            marker_aa445cb02d2fcf2b4f6ce4a0512589c5.setIcon(icon_545747b477fab985602d4a39aca3c48e);\n",
       "        \n",
       "    \n",
       "            var marker_6cb6dabd984a9540bd6d08d9fd117cd2 = L.marker(\n",
       "                [-3.7333186993953613, -38.489534749043244],\n",
       "                {}\n",
       "            ).addTo(map_57d46dc1f3a48402e3fdc60522861f7a);\n",
       "        \n",
       "    \n",
       "            var icon_b87c5767ac76b21ea1d47127ba5aded3 = L.AwesomeMarkers.icon(\n",
       "                {&quot;extraClasses&quot;: &quot;fa-rotate-0&quot;, &quot;icon&quot;: &quot;info-sign&quot;, &quot;iconColor&quot;: &quot;white&quot;, &quot;markerColor&quot;: &quot;red&quot;, &quot;prefix&quot;: &quot;glyphicon&quot;}\n",
       "            );\n",
       "            marker_6cb6dabd984a9540bd6d08d9fd117cd2.setIcon(icon_b87c5767ac76b21ea1d47127ba5aded3);\n",
       "        \n",
       "    \n",
       "            var marker_a4bf2fb7d2cf5eb3bf5d7d4884726d94 = L.marker(\n",
       "                [-3.7228590971235214, -38.48725123255914],\n",
       "                {}\n",
       "            ).addTo(map_57d46dc1f3a48402e3fdc60522861f7a);\n",
       "        \n",
       "    \n",
       "            var icon_26539b1ee5aca2bf002e8b008216df78 = L.AwesomeMarkers.icon(\n",
       "                {&quot;extraClasses&quot;: &quot;fa-rotate-0&quot;, &quot;icon&quot;: &quot;info-sign&quot;, &quot;iconColor&quot;: &quot;white&quot;, &quot;markerColor&quot;: &quot;blue&quot;, &quot;prefix&quot;: &quot;glyphicon&quot;}\n",
       "            );\n",
       "            marker_a4bf2fb7d2cf5eb3bf5d7d4884726d94.setIcon(icon_26539b1ee5aca2bf002e8b008216df78);\n",
       "        \n",
       "    \n",
       "            var marker_27fedcf325f26ed8c973df9bdb974c2e = L.marker(\n",
       "                [-3.7204016008787417, -38.5072937087797],\n",
       "                {}\n",
       "            ).addTo(map_57d46dc1f3a48402e3fdc60522861f7a);\n",
       "        \n",
       "    \n",
       "            var icon_806ffe23cec89ce09abe94526313513a = L.AwesomeMarkers.icon(\n",
       "                {&quot;extraClasses&quot;: &quot;fa-rotate-0&quot;, &quot;icon&quot;: &quot;info-sign&quot;, &quot;iconColor&quot;: &quot;white&quot;, &quot;markerColor&quot;: &quot;green&quot;, &quot;prefix&quot;: &quot;glyphicon&quot;}\n",
       "            );\n",
       "            marker_27fedcf325f26ed8c973df9bdb974c2e.setIcon(icon_806ffe23cec89ce09abe94526313513a);\n",
       "        \n",
       "    \n",
       "            var marker_c02813a7ffb067c57426d9ff52a33486 = L.marker(\n",
       "                [-3.7186886031095905, -38.50986862934191],\n",
       "                {}\n",
       "            ).addTo(map_57d46dc1f3a48402e3fdc60522861f7a);\n",
       "        \n",
       "    \n",
       "            var icon_b142361b76c8d2b42b17eecf390b2ccc = L.AwesomeMarkers.icon(\n",
       "                {&quot;extraClasses&quot;: &quot;fa-rotate-0&quot;, &quot;icon&quot;: &quot;info-sign&quot;, &quot;iconColor&quot;: &quot;white&quot;, &quot;markerColor&quot;: &quot;red&quot;, &quot;prefix&quot;: &quot;glyphicon&quot;}\n",
       "            );\n",
       "            marker_c02813a7ffb067c57426d9ff52a33486.setIcon(icon_b142361b76c8d2b42b17eecf390b2ccc);\n",
       "        \n",
       "    \n",
       "            var marker_e2d32949008f0f4842464d452ce31f1c = L.marker(\n",
       "                [-3.7171479354666146, -38.51025303928503],\n",
       "                {}\n",
       "            ).addTo(map_57d46dc1f3a48402e3fdc60522861f7a);\n",
       "        \n",
       "    \n",
       "            var icon_0ac4a2fd4faf4a706f8a2c2e6a51a5d4 = L.AwesomeMarkers.icon(\n",
       "                {&quot;extraClasses&quot;: &quot;fa-rotate-0&quot;, &quot;icon&quot;: &quot;info-sign&quot;, &quot;iconColor&quot;: &quot;white&quot;, &quot;markerColor&quot;: &quot;blue&quot;, &quot;prefix&quot;: &quot;glyphicon&quot;}\n",
       "            );\n",
       "            marker_e2d32949008f0f4842464d452ce31f1c.setIcon(icon_0ac4a2fd4faf4a706f8a2c2e6a51a5d4);\n",
       "        \n",
       "    \n",
       "            var marker_b8a8ecc49cd1458a6900d3256baa206c = L.marker(\n",
       "                [-3.7201132634671494, -38.52451664298032],\n",
       "                {}\n",
       "            ).addTo(map_57d46dc1f3a48402e3fdc60522861f7a);\n",
       "        \n",
       "    \n",
       "            var icon_cfa6c80c82fe1711316eb0a8d630ae6d = L.AwesomeMarkers.icon(\n",
       "                {&quot;extraClasses&quot;: &quot;fa-rotate-0&quot;, &quot;icon&quot;: &quot;info-sign&quot;, &quot;iconColor&quot;: &quot;white&quot;, &quot;markerColor&quot;: &quot;green&quot;, &quot;prefix&quot;: &quot;glyphicon&quot;}\n",
       "            );\n",
       "            marker_b8a8ecc49cd1458a6900d3256baa206c.setIcon(icon_cfa6c80c82fe1711316eb0a8d630ae6d);\n",
       "        \n",
       "    \n",
       "            var marker_c6b5ed03c53cc09035cec7dc1110c9b3 = L.marker(\n",
       "                [-3.7562689807652148, -38.53069905284466],\n",
       "                {}\n",
       "            ).addTo(map_57d46dc1f3a48402e3fdc60522861f7a);\n",
       "        \n",
       "    \n",
       "            var icon_440989746466d8c1bdc4ef6d7946c3e7 = L.AwesomeMarkers.icon(\n",
       "                {&quot;extraClasses&quot;: &quot;fa-rotate-0&quot;, &quot;icon&quot;: &quot;info-sign&quot;, &quot;iconColor&quot;: &quot;white&quot;, &quot;markerColor&quot;: &quot;red&quot;, &quot;prefix&quot;: &quot;glyphicon&quot;}\n",
       "            );\n",
       "            marker_c6b5ed03c53cc09035cec7dc1110c9b3.setIcon(icon_440989746466d8c1bdc4ef6d7946c3e7);\n",
       "        \n",
       "    \n",
       "            var poly_line_5649cd7131f5b1ab5b5ae9c920a7ab3c = L.polyline(\n",
       "                [[-3.778209341420737, -38.54067345827758], [-3.8070157671711327, -38.522390190229515], [-3.8113368327863695, -38.47842114975064], [-3.8060995079703828, -38.41032316574923], [-3.7449881733005617, -38.48548492241305], [-3.7333186993953613, -38.489534749043244], [-3.7228590971235214, -38.48725123255914], [-3.7204016008787417, -38.5072937087797], [-3.7186886031095905, -38.50986862934191], [-3.7171479354666146, -38.51025303928503], [-3.7201132634671494, -38.52451664298032], [-3.7562689807652148, -38.53069905284466]],\n",
       "                {&quot;bubblingMouseEvents&quot;: true, &quot;color&quot;: &quot;blue&quot;, &quot;dashArray&quot;: null, &quot;dashOffset&quot;: null, &quot;fill&quot;: false, &quot;fillColor&quot;: &quot;blue&quot;, &quot;fillOpacity&quot;: 0.2, &quot;fillRule&quot;: &quot;evenodd&quot;, &quot;lineCap&quot;: &quot;round&quot;, &quot;lineJoin&quot;: &quot;round&quot;, &quot;noClip&quot;: false, &quot;opacity&quot;: 1, &quot;smoothFactor&quot;: 1.0, &quot;stroke&quot;: true, &quot;weight&quot;: 2.5}\n",
       "            ).addTo(map_57d46dc1f3a48402e3fdc60522861f7a);\n",
       "        \n",
       "&lt;/script&gt;\n",
       "&lt;/html&gt;\" style=\"position:absolute;width:100%;height:100%;left:0;top:0;border:none !important;\" allowfullscreen webkitallowfullscreen mozallowfullscreen></iframe></div></div>"
      ],
      "text/plain": [
       "<folium.folium.Map at 0x7a3160112b00>"
      ]
     },
     "execution_count": 70,
     "metadata": {},
     "output_type": "execute_result"
    }
   ],
   "source": [
    "mapa"
   ]
  }
 ],
 "metadata": {
  "colab": {
   "authorship_tag": "ABX9TyPEEDuiHiZz0jluLT0sfZ2/",
   "collapsed_sections": [
    "SasYByWNbCYx",
    "Rp-ObHHEbHSQ",
    "4gAjCm0gbr0Y",
    "g7SiUl_490f_",
    "635ETS4Pbx0n",
    "k2SGQgRDb6GD",
    "K19h6gUS0q9_",
    "P7TGwB050wka",
    "uVeumEaL00B4",
    "3QobIwkX05CJ",
    "Ofc_uYgq1Pdb",
    "2ZHpuLDt1VQ8",
    "hEHcIaVD1lm9"
   ],
   "provenance": [
    {
     "file_id": "1mklNBy_3A0SWQt1ALXbGArxlSU4ba3vb",
     "timestamp": 1694558029646
    }
   ]
  },
  "kernelspec": {
   "display_name": "Python 3 (ipykernel)",
   "language": "python",
   "name": "python3"
  },
  "language_info": {
   "codemirror_mode": {
    "name": "ipython",
    "version": 3
   },
   "file_extension": ".py",
   "mimetype": "text/x-python",
   "name": "python",
   "nbconvert_exporter": "python",
   "pygments_lexer": "ipython3",
   "version": "3.11.7"
  }
 },
 "nbformat": 4,
 "nbformat_minor": 1
}
